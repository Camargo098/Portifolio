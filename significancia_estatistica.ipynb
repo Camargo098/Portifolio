{
 "cells": [
  {
   "cell_type": "markdown",
   "id": "1764b2ef",
   "metadata": {},
   "source": [
    "<h3><b>Significância Estatística e ANOVA na Análise de Dados.</h3><b>"
   ]
  },
  {
   "cell_type": "markdown",
   "id": "1d1f1d47",
   "metadata": {},
   "source": [
    "<b>Vemos Padrões Em Todo Lugar</b>\n",
    "\n",
    "O cérebro humano evoluiu para encontrar padões, uma habilidade vital para a sobrevivencia. Mas na análise de dados, essa habilidade pode nos enganar, fazendo-nos ver conexões onde só existe o acaso. A significância estatistica é o nosso filtro, é a ferramenta que separa o sinal do ruído e garante que nossas decisões sejam evidências, não coincidências."
   ]
  },
  {
   "cell_type": "markdown",
   "id": "05184c51",
   "metadata": {},
   "source": [
    "<b>Pilares da Significancia Estatística</b>\n",
    "\n",
    "<b>O Paradoxo do Valor-p</b>\n",
    "\n",
    "O valor-p não mede a magnitude de um efeito. Ele reponde a uma pergunta especifica:<i> Se a hipótese nula $H_0$ for verdadeira, qual a probabilidade de obtermos estes dados (ou mais extremos) apenas por acaso?\"</i>\n",
    "\n",
    "Um p-valor de 0.05 não é um \"limite mágico\". É um equivoco comum pensar que um p-valor muito pequeno significa um efeito grande ou significativo. O p-valor indica apenas a probabilidade de obter um resultado observado sob a hipótese nula. Ele não fornece informações sobre a dimensão ou o significado prático do efeito."
   ]
  },
  {
   "cell_type": "markdown",
   "id": "8634527f",
   "metadata": {},
   "source": [
    "<b>"
   ]
  },
  {
   "cell_type": "markdown",
   "id": "630154c7",
   "metadata": {},
   "source": [
    "<b>Poder Estatístico (1-$\\beta$)</b>\n",
    "\n",
    "O poder de um teste (1-$\\beta$), também conhecido como a sensibilidade do teste, é a probabilidade de que um teste estatistico rejeite a hipotese nula ($H_0$) quando ela é falsa. Em termos mais simples, é a capacidade do seu teste de detectar um efeito ou uma diferença real que existe na população. Quanto maior o poder do teste, maior a sua chance de identificar os \"verdadeiros positivos\" e evitar um Erro do Tipo II, que ocorreria ao não detectar um efeito real.\n",
    "\n",
    "<b>Fatores Criticos que Aumentam o Poder</b>\n",
    "\n",
    "<ul>\n",
    "    <li><b>Tamanho Amostral:</b> Amostras maiores geralmentem resultam em maior poder. Isso ocorre porque aamostras maiores fornecem mais informações sobre a população, reduzindo a incerteza e tornando mais facil identificar diferenças ou efeitos que realmente existem.\n",
    "    <ul>\n",
    "    <li><b>Ex.:</b> Imagina que você está testando uma nova funcionalidade em um site. Se você testar apenas 10 usuários, uma pequena, mas real, melhoria na taxa de conversão pode ser facilmente mascarada por variações aleatórias. No entanto, se você testar 1000 usuários, a verdadeira melhoria se tornará mais evidente, aumentando a probabilidade de o teste detecta-la como estatisticamente significativa.\n",
    "    </ul>\n",
    "    <li><b>Tamanho do efeito:</b> O tamanho do efeito refere-se à magnitude da diferença ou da relação que você está tentando detectar. Um tamanho de efeito maior leva a resultados estatisticamente mais significativos mais rápidamente, mesmo com grupos menores. Isso porque um efeito mais pronunciado é um \"sinal\" mais forte nos dados, tornando-o mais fácil de ser distiguido do \"ruido\" aleatório.\n",
    "    <ul>\n",
    "    <li><b>Ex.:</b> Se um medicamento reduz a pressão arterial em 20 mmHg, essa é uma diferença muito mais fácil de detectar estatisticamente do que uma redução de apenas 1 mmHg, mesmo com o mesmo númeor de pacientes. O efeito de 20 mmHg é um \"sinal\" muito mais claro.\n",
    "    </ul>\n",
    "    <li><b>Nível de Significância: </b> O nível de significância é a probabilidade predefinida de cometer um Erro do Tipo I (falso positivo), ou seja, rejeitar a hipotese nula quando ela é verdadeira. Um erro de significancia mais alto (Por exemplo 0.10 em vez de 0.05) leva a um maior poder do teste, pois expande a região de rejeição da H0, tornando mais provavel que você declare um resultado como significativo. No entanto, isso vem com o custo de aumentas o risco de Erro do Tipo I.\n",
    "    <ul>\n",
    "    <li><b>Ex.:</b> Se você define seu α em 0.10 (10% de chance de um falso positivo), você está mais propenso a encontrar um resultado \"significativo\" do que se o α fosse 0.01 (1% de chance). Isso aumenta sua capacidade de detectar um efeito real (maior poder), mas também aumenta o risco de concluir que há um efeito quando, na verdade, não há\n",
    "    </ul>\n",
    "</ul>"
   ]
  },
  {
   "cell_type": "markdown",
   "id": "8edbc0d3",
   "metadata": {},
   "source": [
    "<b>Quando os Grupos se Multiplicam: Entra a ANOVA</b>\n",
    "\n",
    "A Análise de Variância (ANOVA) é uma ferramenta utilizada para comparar as médias de três ou mais grupos simultaneamente. Seu principal objetivo é determinar se a variação observada entre as médias dos grupos é mais significativa que a variação dentro dos própios grupos. \n",
    "O Uso de multiplos teste t para cada par de grupos aumentaria o risco de Erro Tipo I (falso positivo), enquanto a ANOVA lida com a comparação em um unico teste e controla esse erro.\n",
    "\n",
    "<b>Exemplo:</b>\n",
    "<ul>\n",
    "    <li>Eficácia de 4 medicamentos diferentes (comparar a eficácia de três métodos de ensaio).\n",
    "    <li>Desempenho de vandas em 5 regiões (avaliar o crescimento médio de vendas para diferentes estratégias de marketing).\n",
    "    <li>Satisfação de clientes em 3 canais de atendimento (identificar tendências em atendimento ao cliente para garantia da qualidade).\n",
    "</ul>\n",
    "\n",
    "A ANOVA compara duas estimativas de variância:\n",
    "<ul>\n",
    "    <li><b>Variância entre grupos:</b> Reflete as diferenças entre as médias dos diferentes grupos (causada por um fator especifico).\n",
    "    <li><b>Variância intra-grupos:</b> Reflete as flutuações aleatórias e é causada por diferenças dentro de grupos individuais.\n",
    "</ul>\n",
    "\n",
    "Razão F \n",
    "$$F = \\frac{\\text{Variância Entre Grupos}}{\\text{Variância Dentro de Grupos}}$$\n",
    "\n",
    "Se a variação entre os grupos for maior significativamente maior que a variação dentro deles, concluímos que pelo menos um grupo é diferente.\n",
    "\n",
    "\n",
    "Para garantir a validade dos resultados da ANOVA, certas premissas devem ser atendidas:\n",
    "<ul>\n",
    "    <li><b>Normalidade:</b> Os dados de cada grupo devem seguir uma distribuição normal.\n",
    "    <li><b>Homocedasticidade:</b> As variações dentro de cada grupos devem ser aproximadamente iguais (homogeneidade de variâncias), o que pode ser testado com o teste de Levene.\n",
    "    <li><b>Independência:</b> As observações em um grupo não devem influenciar as observações em outro grupo.\n",
    "</ul>\n",
    "\n",
    "Caso alguma dessas premissas seja violada, os resultados do teste podem ser inválidos, e o uso de um teste paramétrico pode ser necessário.\n",
    "\n",
    "<b>Tipos de ANOVA</b>\n",
    "\n",
    "| Tipo | Variáveis Independentes | Interações | Caso de Uso |\n",
    "|------|-------------------------|------------|-------------|\n",
    "| One-Way | 1 | Não | Comparar a efecácia de 3 métodos de ensino. |\n",
    "| Two-Ways | 2 | Sim | Intestigar a relação entre ensino e técnicas de estudo, e como eles afetam conjuntamente o desempenho do aluno. |\n",
    "| MANOVA | 1 ou mais | Sim | Comparar médias de multiplos grupos em duas ou mais variáveis dependentes (Ex.: impacto de diferentes configurações de asa em força estrutural, peso e eficacia aerodinâmica.)\n"
   ]
  },
  {
   "cell_type": "markdown",
   "id": "84507833",
   "metadata": {},
   "source": [
    "<b>ANOVA One-Way com Dados Simulados</b>"
   ]
  },
  {
   "cell_type": "code",
   "execution_count": 2,
   "id": "10ee80df",
   "metadata": {},
   "outputs": [
    {
     "name": "stdout",
     "output_type": "stream",
     "text": [
      "Normalidade: OK\n",
      "Normalidede (Exemplo): Violada\n",
      "Homogeneidade (exemplo): Violada\n"
     ]
    }
   ],
   "source": [
    "import scipy.stats as stats\n",
    "import pandas as pd\n",
    "import numpy as np\n",
    "\n",
    "residuos = [np.random.normal(0, 1, 100) for _ in range(3)]\n",
    "grupo_A = np.random.normal(10, 2, 50)\n",
    "grupo_B = np.random.normal(12, 2.5, 50)\n",
    "grupo_C = np.random.normal(11, 2.2, 50)\n",
    "\n",
    "\n",
    "_, p_normalidade = stats.shapiro(residuos)\n",
    "print(f'Normalidade: {'OK' if p_normalidade > 0.05 else 'Violada'}')\n",
    "\n",
    "\n",
    "data_normal = stats.norm.rvs(loc=0, scale=1, size=10)\n",
    "_, p_normalidade = stats.shapiro(data_normal)\n",
    "print(f'Normalidede (Exemplo): {'OK' if p_normalidade > 0.05 else 'Violada'}')\n",
    "\n",
    "grupo_A = stats.norm.rvs(loc=10, scale=2, size=30)\n",
    "grupo_B = stats.norm.rvs(loc=12, scale=2.5, size=30)\n",
    "grupo_C = stats.norm.rvs(loc=11, scale=2.2, size=30)\n",
    "_, p_homogeneidade = stats.levene(grupo_A, grupo_B, grupo_C) # [14, 15]\n",
    "print(f\"Homogeneidade (exemplo): {'OK' if p_homogeneidade > 0.05 else 'Violada'}\")"
   ]
  },
  {
   "cell_type": "code",
   "execution_count": 3,
   "id": "b4553109",
   "metadata": {},
   "outputs": [
    {
     "name": "stdout",
     "output_type": "stream",
     "text": [
      "ANOVA One-Way:\n",
      "              sum_sq    df         F    PR(>F)\n",
      "C(grupo)  157.712666   2.0  5.389779  0.010726\n",
      "Residual  395.029386  27.0       NaN       NaN\n",
      "\n",
      "Teste Post-Hoc (Tukey HSD):\n",
      "Multiple Comparison of Means - Tukey HSD, FWER=0.05 \n",
      "====================================================\n",
      "group1 group2 meandiff p-adj   lower   upper  reject\n",
      "----------------------------------------------------\n",
      "     A      B  -1.1936 0.7668 -5.4349  3.0477  False\n",
      "     A      C  -5.3495 0.0113 -9.5908 -1.1082   True\n",
      "     B      C  -4.1559 0.0556 -8.3972  0.0854  False\n",
      "----------------------------------------------------\n"
     ]
    }
   ],
   "source": [
    "import statsmodels.api as sm\n",
    "from statsmodels.formula.api import ols\n",
    "from statsmodels.stats.multicomp import pairwise_tukeyhsd\n",
    "import pandas as pd\n",
    "import numpy as np\n",
    "\n",
    "# Dados de exemplo\n",
    "np.random.seed(42)\n",
    "data = {\n",
    "    'grupo': ['A']*10 + ['B']*10 + ['C']*10, \n",
    "    'desempenho': np.concatenate([\n",
    "        np.random.normal(70, 5, 10), # Média 70 para Grupo A\n",
    "        np.random.normal(75, 5, 10), # Média 75 para Grupo B\n",
    "        np.random.normal(68, 5, 10)  # Média 68 para Grupo C\n",
    "    ])\n",
    "}\n",
    "dados = pd.DataFrame(data)\n",
    "\n",
    "# Modelo ANOVA One-Way\n",
    "# 'desempenho ~ C(grupo)' indica que 'desempenho' é a variável dependente\n",
    "# e 'grupo' é a variável independente categórica.\n",
    "modelo = ols('desempenho ~ C(grupo)', data=dados).fit()\n",
    "modelo_anova = sm.stats.anova_lm(modelo, typ=2) # typ=2 para tipo de soma de quadrados\n",
    "print(\"ANOVA One-Way:\")\n",
    "print(modelo_anova) # [16]\n",
    "\n",
    "# Teste Post-Hoc (Tukey HSD)\n",
    "# Compara pares de grupos para identificar quais diferenças são significativas\n",
    "tukey = pairwise_tukeyhsd(\n",
    "    endog=dados['desempenho'],\n",
    "    groups=dados['grupo'],\n",
    "    alpha=0.05\n",
    ")\n",
    "print(\"\\nTeste Post-Hoc (Tukey HSD):\")\n",
    "print(tukey.summary())"
   ]
  },
  {
   "cell_type": "markdown",
   "id": "c6d34b6e",
   "metadata": {},
   "source": [
    "<b>Interpretação dos Resultados</b>\n",
    "\n",
    "<ul>\n",
    "<li><b>(Linha de Fator):</b>\n",
    "<ul>\n",
    "    <li><b>sum_sq (Soma dos Quadrados):</b> 157.712666 representa a variação entre os grupos. É a parte da variabilidade total dos dados que pode ser explicada pelas diferenças entre as médias dos seus métodos de estudos (A, B, C).\n",
    "    <li><b>df (Graus de Liberdade):</b> 2.0 são os graus de liberdade para obter o fator grupo. É o número de grupos menor 1 (3 grupos -1 = 2).\n",
    "    <li><b>F (Estatistica F):</b> é o valor da estatistica F calculada. É a razão entre a variação entre os grupos e a variação dentro dos grupos. Um fator F maior sugere que as diferenças entre as médias dos grupos são mais significativas do que a aleatóriedade. \n",
    "    <li><b>PR(>F) (p-valor): </b>0.010726 é o p-valor associado à estatistica F. Esse é o número mais importante nesta tabela. Nós comparamos esse p-valor com nosso nível de significancia, que geralmente é 0.05. Como 0.010726 é menor que 0.05, nós rejeitamos a hipótese nula da ANOVA.\n",
    "</ul>\n",
    "<li><b>Residual (linha do Residuo/Erro):</b>\n",
    "<ul>\n",
    "    <li><b>sum_sq:</b> 395.029386 representa a variação dentro dos grupos (ou variaveis do erro). É a parte da variabilidade que não é explicada pelas disferenças entre os grupos e é atribuida ao acaso ou fatores não medidos.\n",
    "    <li><b>df:</b> 27.0 são os graus d eliberdade para o resíduo (número total de obeservações - número de grupos = 30 - 3 = 27)\n",
    "</ul>\n",
    "\n",
    "<b>Conclusão da ANOVA:</b>\n",
    "\n",
    "O p-valor de 0.010726 (que é menor que 0.05) no diz que existe uma diferença estatisticamente significativa entre as notas médias de pelo menos um dos metodos de estudo.\n",
    "\n",
    "No entanto, a ANOVA não nos diz quais grupos são diferentes. Para isso, precisamos dos testes Post-Hoc"
   ]
  },
  {
   "cell_type": "markdown",
   "id": "a9f4e992",
   "metadata": {},
   "source": [
    "<b>Interpretando os Resultados do Teste Post-Hoc (Tukey HSD)</b>\n",
    "\n",
    "O teste de Tukey HSD é feito após a ANOVA ser significativa para identificar quais pares de grupos são responsáveis pela diferença observada. Ele compara cada par de grupo."
   ]
  },
  {
   "cell_type": "code",
   "execution_count": 4,
   "id": "5b164f94",
   "metadata": {},
   "outputs": [
    {
     "name": "stdout",
     "output_type": "stream",
     "text": [
      "\n",
      "Teste Post-Hoc (Tukey HSD):\n",
      "Multiple Comparison of Means - Tukey HSD, FWER=0.05 \n",
      "====================================================\n",
      "group1 group2 meandiff p-adj   lower   upper  reject\n",
      "----------------------------------------------------\n",
      "     A      B  -1.1936 0.7668 -5.4349  3.0477  False\n",
      "     A      C  -5.3495 0.0113 -9.5908 -1.1082   True\n",
      "     B      C  -4.1559 0.0556 -8.3972  0.0854  False\n",
      "----------------------------------------------------\n"
     ]
    }
   ],
   "source": [
    "print(\"\\nTeste Post-Hoc (Tukey HSD):\")\n",
    "print(tukey.summary())"
   ]
  },
  {
   "cell_type": "markdown",
   "id": "b5c048c4",
   "metadata": {},
   "source": [
    "Aqui, o foco é na coluna <b>p-adj (p-valor ajustado)</b> e na coluna <b>breject</b>.\n",
    "<ul>\n",
    "    <li><b>group1</b> e <b>group2</b>: São os pares de grupos que estão sendo comparados.\n",
    "    <li><b>meandif</b>: A diferença nas medias entre os grupos comparados. Por exemplo, <b>A</b> tem um dempenho 1.1936 pontos menor que <b>B</b>, e <b>A</b> tem um desempenho 5.3495 pontos menor que <b>C</b>.\n",
    "    <li><b>p-adj (p-valor ajustado)</b>: Esse é o valor para cada comparação pareado, ajustado para o problema da testagem multipla (para evitar falsos positivos quando se faz várias comparações.)\n",
    "    <b>upper</b> e <b>lower</b>: são os limites inferiores e superiores do intervalor de confiança para a diferença nas médias.\n",
    "    <b>reject</b>: Uma coluna booleana que indica se a hipótese nula para aquele par especifico for rejeitada.\n",
    "</ul>"
   ]
  },
  {
   "cell_type": "markdown",
   "id": "8013c581",
   "metadata": {},
   "source": [
    "<b>Analisando as Comparações</b>\n",
    "\n",
    "1. <b>A vs. B</b>\n",
    "<ul>\n",
    "<li>meandiff = -1.1936 (tem a média ligeiramente menor)\n",
    "<li>p-adj = 0.7668\n",
    "<li>reject = False\n",
    "<li><b>Interpretação</b>: O p-valor ajustado (0.7668) é muito maior que o 0.05. Não há diferença estatisticamente significativa entre as médias dos grupos A e B.\n",
    "</ul>\n",
    "\n",
    "2. <b>A vs. C</b>\n",
    "<ul>\n",
    "<li>meandiff = -5.3495 (A tem a média significativamente menor que C)\n",
    "<li>p-adj = 0.0113\n",
    "<li>reject = True\n",
    "<li><b>Interpreatação</b>: O p-valor ajustado (0.0113) é menor que 0.05. Há diferença estatisticamente siginificativamente entre as médias dos grupos A e C. O grupo C teve um desempenho siginificativamente melhor que o grupo A.\n",
    "</ul>\n",
    "\n",
    "3. <b>B vs. C</b>\n",
    "<ul>\n",
    "<li>meandiff = -4.1559 (B tem média menor que C)\n",
    "<li>p-adj = 0.0556\n",
    "<li>reject = False\n",
    "<li><b>Interpretação</b>: O p-valor ajustado (0.0556) é ligeiramente maior que 0.05. Portanto, não há diferença estatisticamente significativa entre as médias dos grupos B e C ao nível de 0.05. Note que o p-valor está bem na fronteira, segurindo que talvez haja uma diferença, mas não suficiente para ser considerada \"significativa\" pelo critério de 0.05.\n",
    "</ul>"
   ]
  },
  {
   "cell_type": "markdown",
   "id": "ce520bd3",
   "metadata": {},
   "source": [
    "<b>Conclusão Geral</b>\n",
    "Com base nos resultados:\n",
    "<ul>\n",
    "<li>A ANOVA nos disse que exite uma diferença geral nas médias de desempenho entre métodos de estudos.\n",
    "<li>O Teste de Post-Hoc Tukey nos revelou que a unica diferença estatisticamente significativa (ao nível de alpha = 0.05) está entre o grupo A e o grupo C, com o grupo C apresentando um desempenho significativamente superior.\n",
    "<li>Não há evidencias de diferenças significativas entre A e B, ou entre B e C, embora a comparação entre B vs. C esteja muito próxima do limiar. \n",
    "</ul>\n",
    "\n",
    "Isso significa que, com base nos dados simulados, o \"Metodo C\" parece ter levado a resultados melhores do que o metodo \"A\"."
   ]
  },
  {
   "cell_type": "markdown",
   "id": "50b6bf34",
   "metadata": {},
   "source": [
    "<b>Conclusão</b>\n",
    "\n",
    "Dominar significância estatística e ANOVA transforma analistas em parceiros estratégicos. A significância estatística é uma ferramenta indispensável para a análise de dados, capacitando as empresas a tomar decisões sólidas e fundamentadas em evidências, otimizando assim o retorno sobre o investimento.9 Lembre-se:\n",
    "\"Estatística é a ciência de evitar ser enganado por dados aleatórios.\" (Brad Efron)\n"
   ]
  }
 ],
 "metadata": {
  "kernelspec": {
   "display_name": "env",
   "language": "python",
   "name": "python3"
  },
  "language_info": {
   "codemirror_mode": {
    "name": "ipython",
    "version": 3
   },
   "file_extension": ".py",
   "mimetype": "text/x-python",
   "name": "python",
   "nbconvert_exporter": "python",
   "pygments_lexer": "ipython3",
   "version": "3.13.3"
  }
 },
 "nbformat": 4,
 "nbformat_minor": 5
}
