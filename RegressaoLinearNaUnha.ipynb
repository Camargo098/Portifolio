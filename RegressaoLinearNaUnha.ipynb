{
 "cells": [
  {
   "cell_type": "markdown",
   "id": "23559b63",
   "metadata": {},
   "source": [
    "<i>O foco deste notebook é, unicamente, a demonstração do cálculo fundamental em uma regressão linear. A criação de um modelo robusto envolve um processo consideravelmente mais complexo e multifacetado.</i>"
   ]
  },
  {
   "cell_type": "markdown",
   "id": "afab19b0",
   "metadata": {},
   "source": [
    "<h3>O que é uma regressão linear?</h3>\n",
    "A regressão linear é uma técnica estatistica usada para tentar prever o valor de uma variavel dependente com base no comportamente de uma ou mais variaveis independendes. O objetivo é emcontrar os melhores coeficientes de uma equação linear que consiga ficar mais proximo de todos os pontos de dados.\n",
    "\n",
    "<p>Podemos representar a <b>equação da reta</b> como:\n",
    "\n",
    "$$ y = b_1x + b_0 $$\n",
    "\n",
    "onde:\n",
    "\n",
    "- $y$ representa o valor da coordenada vertical.\n",
    "- $x$ representa o valor da coordenada horizontal.\n",
    "- $b_1$ é o coeficiente angular (ou inclinação) da reta.\n",
    "- $b_0$ é o coeficinete liner (ou intercpto). Representa o valor de $y$ quando $x$ é igual a zero.\n",
    "\n",
    "Vamos ver isso na prática!"
   ]
  },
  {
   "cell_type": "code",
   "execution_count": 25,
   "id": "c940d7e8",
   "metadata": {},
   "outputs": [],
   "source": [
    "# importação das bibliotecas que vou usar\n",
    "import pandas as pd\n",
    "import numpy as np\n",
    "import matplotlib.pyplot as plt\n",
    "import warnings\n",
    "\n",
    "warnings.filterwarnings(\"ignore\")"
   ]
  },
  {
   "cell_type": "code",
   "execution_count": 26,
   "id": "ac69a33f",
   "metadata": {},
   "outputs": [
    {
     "data": {
      "application/vnd.microsoft.datawrangler.viewer.v0+json": {
       "columns": [
        {
         "name": "index",
         "rawType": "int64",
         "type": "integer"
        },
        {
         "name": "STRUCTURE",
         "rawType": "object",
         "type": "string"
        },
        {
         "name": "STRUCTURE_ID",
         "rawType": "object",
         "type": "string"
        },
        {
         "name": "STRUCTURE_NAME",
         "rawType": "object",
         "type": "string"
        },
        {
         "name": "ACTION",
         "rawType": "object",
         "type": "string"
        },
        {
         "name": "LOCATION",
         "rawType": "object",
         "type": "string"
        },
        {
         "name": "Country",
         "rawType": "object",
         "type": "string"
        },
        {
         "name": "INDICATOR",
         "rawType": "object",
         "type": "string"
        },
        {
         "name": "Indicator",
         "rawType": "object",
         "type": "string"
        },
        {
         "name": "MEASURE",
         "rawType": "object",
         "type": "string"
        },
        {
         "name": "Measure",
         "rawType": "object",
         "type": "string"
        },
        {
         "name": "INEQUALITY",
         "rawType": "object",
         "type": "string"
        },
        {
         "name": "Inequality",
         "rawType": "float64",
         "type": "float"
        },
        {
         "name": "OBS_VALUE",
         "rawType": "float64",
         "type": "float"
        },
        {
         "name": "Observation Value",
         "rawType": "float64",
         "type": "float"
        },
        {
         "name": "OBS_STATUS",
         "rawType": "object",
         "type": "string"
        },
        {
         "name": "Observation Status",
         "rawType": "float64",
         "type": "float"
        },
        {
         "name": "UNIT_MEASURE",
         "rawType": "object",
         "type": "string"
        },
        {
         "name": "Unit of Measures",
         "rawType": "object",
         "type": "string"
        },
        {
         "name": "UNIT_MULT",
         "rawType": "int64",
         "type": "integer"
        },
        {
         "name": "Multiplier",
         "rawType": "object",
         "type": "string"
        },
        {
         "name": "BASE_PER",
         "rawType": "float64",
         "type": "float"
        },
        {
         "name": "Base reference period",
         "rawType": "float64",
         "type": "float"
        }
       ],
       "conversionMethod": "pd.DataFrame",
       "ref": "99d2cc05-3fe0-46e6-a1c4-1e1b21086705",
       "rows": [
        [
         "0",
         "DATAFLOW",
         "OECD:DF_BLI(1.0)",
         "Better Life Index",
         "I",
         "AUT",
         "Austria",
         "JE_LMIS",
         "Labour market insecurity",
         "L",
         "Value",
         "TOT",
         null,
         "2.3",
         null,
         "A",
         null,
         "PC",
         "Percentage",
         "0",
         "Units",
         null,
         null
        ],
        [
         "1",
         "DATAFLOW",
         "OECD:DF_BLI(1.0)",
         "Better Life Index",
         "I",
         "BEL",
         "Belgium",
         "JE_LMIS",
         "Labour market insecurity",
         "L",
         "Value",
         "TOT",
         null,
         "2.4",
         null,
         "A",
         null,
         "PC",
         "Percentage",
         "0",
         "Units",
         null,
         null
        ],
        [
         "2",
         "DATAFLOW",
         "OECD:DF_BLI(1.0)",
         "Better Life Index",
         "I",
         "CAN",
         "Canada",
         "JE_LMIS",
         "Labour market insecurity",
         "L",
         "Value",
         "TOT",
         null,
         "3.8",
         null,
         "A",
         null,
         "PC",
         "Percentage",
         "0",
         "Units",
         null,
         null
        ],
        [
         "3",
         "DATAFLOW",
         "OECD:DF_BLI(1.0)",
         "Better Life Index",
         "I",
         "CZE",
         "Czechia",
         "JE_LMIS",
         "Labour market insecurity",
         "L",
         "Value",
         "TOT",
         null,
         "2.3",
         null,
         "A",
         null,
         "PC",
         "Percentage",
         "0",
         "Units",
         null,
         null
        ],
        [
         "4",
         "DATAFLOW",
         "OECD:DF_BLI(1.0)",
         "Better Life Index",
         "I",
         "DNK",
         "Denmark",
         "JE_LMIS",
         "Labour market insecurity",
         "L",
         "Value",
         "TOT",
         null,
         "4.5",
         null,
         "A",
         null,
         "PC",
         "Percentage",
         "0",
         "Units",
         null,
         null
        ]
       ],
       "shape": {
        "columns": 22,
        "rows": 5
       }
      },
      "text/html": [
       "<div>\n",
       "<style scoped>\n",
       "    .dataframe tbody tr th:only-of-type {\n",
       "        vertical-align: middle;\n",
       "    }\n",
       "\n",
       "    .dataframe tbody tr th {\n",
       "        vertical-align: top;\n",
       "    }\n",
       "\n",
       "    .dataframe thead th {\n",
       "        text-align: right;\n",
       "    }\n",
       "</style>\n",
       "<table border=\"1\" class=\"dataframe\">\n",
       "  <thead>\n",
       "    <tr style=\"text-align: right;\">\n",
       "      <th></th>\n",
       "      <th>STRUCTURE</th>\n",
       "      <th>STRUCTURE_ID</th>\n",
       "      <th>STRUCTURE_NAME</th>\n",
       "      <th>ACTION</th>\n",
       "      <th>LOCATION</th>\n",
       "      <th>Country</th>\n",
       "      <th>INDICATOR</th>\n",
       "      <th>Indicator</th>\n",
       "      <th>MEASURE</th>\n",
       "      <th>Measure</th>\n",
       "      <th>...</th>\n",
       "      <th>OBS_VALUE</th>\n",
       "      <th>Observation Value</th>\n",
       "      <th>OBS_STATUS</th>\n",
       "      <th>Observation Status</th>\n",
       "      <th>UNIT_MEASURE</th>\n",
       "      <th>Unit of Measures</th>\n",
       "      <th>UNIT_MULT</th>\n",
       "      <th>Multiplier</th>\n",
       "      <th>BASE_PER</th>\n",
       "      <th>Base reference period</th>\n",
       "    </tr>\n",
       "  </thead>\n",
       "  <tbody>\n",
       "    <tr>\n",
       "      <th>0</th>\n",
       "      <td>DATAFLOW</td>\n",
       "      <td>OECD:DF_BLI(1.0)</td>\n",
       "      <td>Better Life Index</td>\n",
       "      <td>I</td>\n",
       "      <td>AUT</td>\n",
       "      <td>Austria</td>\n",
       "      <td>JE_LMIS</td>\n",
       "      <td>Labour market insecurity</td>\n",
       "      <td>L</td>\n",
       "      <td>Value</td>\n",
       "      <td>...</td>\n",
       "      <td>2.3</td>\n",
       "      <td>NaN</td>\n",
       "      <td>A</td>\n",
       "      <td>NaN</td>\n",
       "      <td>PC</td>\n",
       "      <td>Percentage</td>\n",
       "      <td>0</td>\n",
       "      <td>Units</td>\n",
       "      <td>NaN</td>\n",
       "      <td>NaN</td>\n",
       "    </tr>\n",
       "    <tr>\n",
       "      <th>1</th>\n",
       "      <td>DATAFLOW</td>\n",
       "      <td>OECD:DF_BLI(1.0)</td>\n",
       "      <td>Better Life Index</td>\n",
       "      <td>I</td>\n",
       "      <td>BEL</td>\n",
       "      <td>Belgium</td>\n",
       "      <td>JE_LMIS</td>\n",
       "      <td>Labour market insecurity</td>\n",
       "      <td>L</td>\n",
       "      <td>Value</td>\n",
       "      <td>...</td>\n",
       "      <td>2.4</td>\n",
       "      <td>NaN</td>\n",
       "      <td>A</td>\n",
       "      <td>NaN</td>\n",
       "      <td>PC</td>\n",
       "      <td>Percentage</td>\n",
       "      <td>0</td>\n",
       "      <td>Units</td>\n",
       "      <td>NaN</td>\n",
       "      <td>NaN</td>\n",
       "    </tr>\n",
       "    <tr>\n",
       "      <th>2</th>\n",
       "      <td>DATAFLOW</td>\n",
       "      <td>OECD:DF_BLI(1.0)</td>\n",
       "      <td>Better Life Index</td>\n",
       "      <td>I</td>\n",
       "      <td>CAN</td>\n",
       "      <td>Canada</td>\n",
       "      <td>JE_LMIS</td>\n",
       "      <td>Labour market insecurity</td>\n",
       "      <td>L</td>\n",
       "      <td>Value</td>\n",
       "      <td>...</td>\n",
       "      <td>3.8</td>\n",
       "      <td>NaN</td>\n",
       "      <td>A</td>\n",
       "      <td>NaN</td>\n",
       "      <td>PC</td>\n",
       "      <td>Percentage</td>\n",
       "      <td>0</td>\n",
       "      <td>Units</td>\n",
       "      <td>NaN</td>\n",
       "      <td>NaN</td>\n",
       "    </tr>\n",
       "    <tr>\n",
       "      <th>3</th>\n",
       "      <td>DATAFLOW</td>\n",
       "      <td>OECD:DF_BLI(1.0)</td>\n",
       "      <td>Better Life Index</td>\n",
       "      <td>I</td>\n",
       "      <td>CZE</td>\n",
       "      <td>Czechia</td>\n",
       "      <td>JE_LMIS</td>\n",
       "      <td>Labour market insecurity</td>\n",
       "      <td>L</td>\n",
       "      <td>Value</td>\n",
       "      <td>...</td>\n",
       "      <td>2.3</td>\n",
       "      <td>NaN</td>\n",
       "      <td>A</td>\n",
       "      <td>NaN</td>\n",
       "      <td>PC</td>\n",
       "      <td>Percentage</td>\n",
       "      <td>0</td>\n",
       "      <td>Units</td>\n",
       "      <td>NaN</td>\n",
       "      <td>NaN</td>\n",
       "    </tr>\n",
       "    <tr>\n",
       "      <th>4</th>\n",
       "      <td>DATAFLOW</td>\n",
       "      <td>OECD:DF_BLI(1.0)</td>\n",
       "      <td>Better Life Index</td>\n",
       "      <td>I</td>\n",
       "      <td>DNK</td>\n",
       "      <td>Denmark</td>\n",
       "      <td>JE_LMIS</td>\n",
       "      <td>Labour market insecurity</td>\n",
       "      <td>L</td>\n",
       "      <td>Value</td>\n",
       "      <td>...</td>\n",
       "      <td>4.5</td>\n",
       "      <td>NaN</td>\n",
       "      <td>A</td>\n",
       "      <td>NaN</td>\n",
       "      <td>PC</td>\n",
       "      <td>Percentage</td>\n",
       "      <td>0</td>\n",
       "      <td>Units</td>\n",
       "      <td>NaN</td>\n",
       "      <td>NaN</td>\n",
       "    </tr>\n",
       "  </tbody>\n",
       "</table>\n",
       "<p>5 rows × 22 columns</p>\n",
       "</div>"
      ],
      "text/plain": [
       "  STRUCTURE      STRUCTURE_ID     STRUCTURE_NAME ACTION LOCATION  Country  \\\n",
       "0  DATAFLOW  OECD:DF_BLI(1.0)  Better Life Index      I      AUT  Austria   \n",
       "1  DATAFLOW  OECD:DF_BLI(1.0)  Better Life Index      I      BEL  Belgium   \n",
       "2  DATAFLOW  OECD:DF_BLI(1.0)  Better Life Index      I      CAN   Canada   \n",
       "3  DATAFLOW  OECD:DF_BLI(1.0)  Better Life Index      I      CZE  Czechia   \n",
       "4  DATAFLOW  OECD:DF_BLI(1.0)  Better Life Index      I      DNK  Denmark   \n",
       "\n",
       "  INDICATOR                 Indicator MEASURE Measure  ... OBS_VALUE  \\\n",
       "0   JE_LMIS  Labour market insecurity       L   Value  ...       2.3   \n",
       "1   JE_LMIS  Labour market insecurity       L   Value  ...       2.4   \n",
       "2   JE_LMIS  Labour market insecurity       L   Value  ...       3.8   \n",
       "3   JE_LMIS  Labour market insecurity       L   Value  ...       2.3   \n",
       "4   JE_LMIS  Labour market insecurity       L   Value  ...       4.5   \n",
       "\n",
       "   Observation Value  OBS_STATUS  Observation Status UNIT_MEASURE  \\\n",
       "0                NaN           A                 NaN           PC   \n",
       "1                NaN           A                 NaN           PC   \n",
       "2                NaN           A                 NaN           PC   \n",
       "3                NaN           A                 NaN           PC   \n",
       "4                NaN           A                 NaN           PC   \n",
       "\n",
       "   Unit of Measures UNIT_MULT Multiplier  BASE_PER Base reference period  \n",
       "0        Percentage         0      Units       NaN                   NaN  \n",
       "1        Percentage         0      Units       NaN                   NaN  \n",
       "2        Percentage         0      Units       NaN                   NaN  \n",
       "3        Percentage         0      Units       NaN                   NaN  \n",
       "4        Percentage         0      Units       NaN                   NaN  \n",
       "\n",
       "[5 rows x 22 columns]"
      ]
     },
     "execution_count": 26,
     "metadata": {},
     "output_type": "execute_result"
    }
   ],
   "source": [
    "df = pd.read_csv(r\"C:\\Users\\Robson\\Downloads\\OECD,DF_BLI,+all (1).csv\")\n",
    "df.head()"
   ]
  },
  {
   "cell_type": "code",
   "execution_count": 27,
   "id": "871c4349",
   "metadata": {},
   "outputs": [
    {
     "data": {
      "application/vnd.microsoft.datawrangler.viewer.v0+json": {
       "columns": [
        {
         "name": "index",
         "rawType": "int64",
         "type": "integer"
        },
        {
         "name": "Country",
         "rawType": "object",
         "type": "string"
        },
        {
         "name": "Indicator",
         "rawType": "object",
         "type": "string"
        },
        {
         "name": "OBS_VALUE",
         "rawType": "float64",
         "type": "float"
        }
       ],
       "conversionMethod": "pd.DataFrame",
       "ref": "8240e71e-754b-4bc7-b123-e75099aa3942",
       "rows": [
        [
         "451",
         "Australia",
         "Quality of support network",
         "93.0"
        ],
        [
         "1372",
         "Australia",
         "Student skills",
         "495.0"
        ],
        [
         "1335",
         "Australia",
         "Student skills",
         "499.0"
        ],
        [
         "2110",
         "Australia",
         "Life expectancy",
         "85.0"
        ],
        [
         "223",
         "Australia",
         "Employment rate",
         "73.0"
        ],
        [
         "1297",
         "Australia",
         "Stakeholder engagement for developing regulations",
         "2.7"
        ],
        [
         "262",
         "Australia",
         "Employment rate",
         "77.0"
        ],
        [
         "2150",
         "Australia",
         "Homicide rate",
         "0.9"
        ],
        [
         "301",
         "Australia",
         "Employment rate",
         "69.0"
        ],
        [
         "106",
         "Australia",
         "Feeling safe walking alone at night",
         "67.0"
        ],
        [
         "1170",
         "Australia",
         "Employees working very long hours",
         "6.1"
        ],
        [
         "2188",
         "Australia",
         "Homicide rate",
         "1.3"
        ],
        [
         "1133",
         "Australia",
         "Employees working very long hours",
         "18.5"
        ],
        [
         "1096",
         "Australia",
         "Employees working very long hours",
         "12.5"
        ],
        [
         "2227",
         "Australia",
         "Homicide rate",
         "0.6"
        ],
        [
         "1060",
         "Australia",
         "Self-reported health",
         "84.0"
        ],
        [
         "1409",
         "Australia",
         "Student skills",
         "503.0"
        ],
        [
         "1025",
         "Australia",
         "Self-reported health",
         "93.0"
        ],
        [
         "2071",
         "Australia",
         "Life expectancy",
         "80.9"
        ],
        [
         "70",
         "Australia",
         "Housing expenditure",
         "19.4"
        ],
        [
         "110",
         "Australia",
         "Labour market insecurity",
         "3.1"
        ],
        [
         "1917",
         "Australia",
         "Years in education",
         "20.0"
        ],
        [
         "1844",
         "Australia",
         "Personal earnings",
         "55206.0"
        ],
        [
         "1814",
         "Australia",
         "Household net wealth",
         "528768.0"
        ],
        [
         "1780",
         "Australia",
         "Household net adjusted disposable income",
         "37433.0"
        ],
        [
         "1955",
         "Australia",
         "Years in education",
         "21.0"
        ],
        [
         "145",
         "Australia",
         "Feeling safe walking alone at night",
         "81.0"
        ],
        [
         "1672",
         "Australia",
         "Life satisfaction",
         "7.0"
        ],
        [
         "1993",
         "Australia",
         "Air pollution",
         "6.7"
        ],
        [
         "1635",
         "Australia",
         "Life satisfaction",
         "7.4"
        ],
        [
         "1596",
         "Australia",
         "Life satisfaction",
         "7.2"
        ],
        [
         "2032",
         "Australia",
         "Life expectancy",
         "83.0"
        ],
        [
         "1558",
         "Australia",
         "Life satisfaction",
         "7.1"
        ],
        [
         "1519",
         "Australia",
         "Life satisfaction",
         "7.1"
        ],
        [
         "1482",
         "Australia",
         "Student skills",
         "460.0"
        ],
        [
         "1445",
         "Australia",
         "Student skills",
         "549.0"
        ],
        [
         "988",
         "Australia",
         "Self-reported health",
         "86.0"
        ],
        [
         "1879",
         "Australia",
         "Years in education",
         "20.0"
        ],
        [
         "758",
         "Australia",
         "Water quality",
         "92.0"
        ],
        [
         "718",
         "Australia",
         "Educational attainment",
         "84.0"
        ],
        [
         "680",
         "Australia",
         "Educational attainment",
         "84.0"
        ],
        [
         "36",
         "Australia",
         "Feeling safe walking alone at night",
         "54.0"
        ],
        [
         "376",
         "Australia",
         "Long-term unemployment rate",
         "1.0"
        ],
        [
         "642",
         "Australia",
         "Educational attainment",
         "84.0"
        ],
        [
         "605",
         "Australia",
         "Quality of support network",
         "93.0"
        ],
        [
         "797",
         "Australia",
         "Water quality",
         "93.0"
        ],
        [
         "836",
         "Australia",
         "Water quality",
         "91.0"
        ],
        [
         "715",
         "Australia",
         "Quality of support network",
         "96.0"
        ],
        [
         "875",
         "Australia",
         "Voter turnout",
         "92.0"
        ],
        [
         "413",
         "Australia",
         "Long-term unemployment rate",
         "1.1"
        ]
       ],
       "shape": {
        "columns": 3,
        "rows": 2369
       }
      },
      "text/html": [
       "<div>\n",
       "<style scoped>\n",
       "    .dataframe tbody tr th:only-of-type {\n",
       "        vertical-align: middle;\n",
       "    }\n",
       "\n",
       "    .dataframe tbody tr th {\n",
       "        vertical-align: top;\n",
       "    }\n",
       "\n",
       "    .dataframe thead th {\n",
       "        text-align: right;\n",
       "    }\n",
       "</style>\n",
       "<table border=\"1\" class=\"dataframe\">\n",
       "  <thead>\n",
       "    <tr style=\"text-align: right;\">\n",
       "      <th></th>\n",
       "      <th>Country</th>\n",
       "      <th>Indicator</th>\n",
       "      <th>OBS_VALUE</th>\n",
       "    </tr>\n",
       "  </thead>\n",
       "  <tbody>\n",
       "    <tr>\n",
       "      <th>451</th>\n",
       "      <td>Australia</td>\n",
       "      <td>Quality of support network</td>\n",
       "      <td>93.0</td>\n",
       "    </tr>\n",
       "    <tr>\n",
       "      <th>1372</th>\n",
       "      <td>Australia</td>\n",
       "      <td>Student skills</td>\n",
       "      <td>495.0</td>\n",
       "    </tr>\n",
       "    <tr>\n",
       "      <th>1335</th>\n",
       "      <td>Australia</td>\n",
       "      <td>Student skills</td>\n",
       "      <td>499.0</td>\n",
       "    </tr>\n",
       "    <tr>\n",
       "      <th>2110</th>\n",
       "      <td>Australia</td>\n",
       "      <td>Life expectancy</td>\n",
       "      <td>85.0</td>\n",
       "    </tr>\n",
       "    <tr>\n",
       "      <th>223</th>\n",
       "      <td>Australia</td>\n",
       "      <td>Employment rate</td>\n",
       "      <td>73.0</td>\n",
       "    </tr>\n",
       "    <tr>\n",
       "      <th>...</th>\n",
       "      <td>...</td>\n",
       "      <td>...</td>\n",
       "      <td>...</td>\n",
       "    </tr>\n",
       "    <tr>\n",
       "      <th>1586</th>\n",
       "      <td>United States</td>\n",
       "      <td>Life satisfaction</td>\n",
       "      <td>7.0</td>\n",
       "    </tr>\n",
       "    <tr>\n",
       "      <th>826</th>\n",
       "      <td>United States</td>\n",
       "      <td>Water quality</td>\n",
       "      <td>90.0</td>\n",
       "    </tr>\n",
       "    <tr>\n",
       "      <th>174</th>\n",
       "      <td>United States</td>\n",
       "      <td>Feeling safe walking alone at night</td>\n",
       "      <td>88.0</td>\n",
       "    </tr>\n",
       "    <tr>\n",
       "      <th>1663</th>\n",
       "      <td>United States</td>\n",
       "      <td>Life satisfaction</td>\n",
       "      <td>7.5</td>\n",
       "    </tr>\n",
       "    <tr>\n",
       "      <th>1908</th>\n",
       "      <td>United States</td>\n",
       "      <td>Years in education</td>\n",
       "      <td>17.0</td>\n",
       "    </tr>\n",
       "  </tbody>\n",
       "</table>\n",
       "<p>2369 rows × 3 columns</p>\n",
       "</div>"
      ],
      "text/plain": [
       "            Country                            Indicator  OBS_VALUE\n",
       "451       Australia           Quality of support network       93.0\n",
       "1372      Australia                       Student skills      495.0\n",
       "1335      Australia                       Student skills      499.0\n",
       "2110      Australia                      Life expectancy       85.0\n",
       "223       Australia                      Employment rate       73.0\n",
       "...             ...                                  ...        ...\n",
       "1586  United States                    Life satisfaction        7.0\n",
       "826   United States                        Water quality       90.0\n",
       "174   United States  Feeling safe walking alone at night       88.0\n",
       "1663  United States                    Life satisfaction        7.5\n",
       "1908  United States                   Years in education       17.0\n",
       "\n",
       "[2369 rows x 3 columns]"
      ]
     },
     "execution_count": 27,
     "metadata": {},
     "output_type": "execute_result"
    }
   ],
   "source": [
    "df = df[['Country', 'Indicator', 'OBS_VALUE']]\n",
    "df.sort_values(by='Country')"
   ]
  },
  {
   "cell_type": "code",
   "execution_count": 28,
   "id": "3643ef00",
   "metadata": {},
   "outputs": [
    {
     "data": {
      "application/vnd.microsoft.datawrangler.viewer.v0+json": {
       "columns": [
        {
         "name": "index",
         "rawType": "int64",
         "type": "integer"
        },
        {
         "name": "Country",
         "rawType": "object",
         "type": "string"
        },
        {
         "name": "Air pollution",
         "rawType": "float64",
         "type": "float"
        },
        {
         "name": "Dwellings without basic facilities",
         "rawType": "float64",
         "type": "float"
        },
        {
         "name": "Educational attainment",
         "rawType": "float64",
         "type": "float"
        },
        {
         "name": "Employees working very long hours",
         "rawType": "float64",
         "type": "float"
        },
        {
         "name": "Employment rate",
         "rawType": "float64",
         "type": "float"
        },
        {
         "name": "Feeling safe walking alone at night",
         "rawType": "float64",
         "type": "float"
        },
        {
         "name": "Homicide rate",
         "rawType": "float64",
         "type": "float"
        },
        {
         "name": "Household net adjusted disposable income",
         "rawType": "float64",
         "type": "float"
        },
        {
         "name": "Household net wealth",
         "rawType": "float64",
         "type": "float"
        },
        {
         "name": "Housing expenditure",
         "rawType": "float64",
         "type": "float"
        },
        {
         "name": "Labour market insecurity",
         "rawType": "float64",
         "type": "float"
        },
        {
         "name": "Life expectancy",
         "rawType": "float64",
         "type": "float"
        },
        {
         "name": "Life satisfaction",
         "rawType": "float64",
         "type": "float"
        },
        {
         "name": "Long-term unemployment rate",
         "rawType": "float64",
         "type": "float"
        },
        {
         "name": "Personal earnings",
         "rawType": "float64",
         "type": "float"
        },
        {
         "name": "Quality of support network",
         "rawType": "float64",
         "type": "float"
        },
        {
         "name": "Rooms per person",
         "rawType": "float64",
         "type": "float"
        },
        {
         "name": "Self-reported health",
         "rawType": "float64",
         "type": "float"
        },
        {
         "name": "Stakeholder engagement for developing regulations",
         "rawType": "float64",
         "type": "float"
        },
        {
         "name": "Student skills",
         "rawType": "float64",
         "type": "float"
        },
        {
         "name": "Time devoted to leisure and personal care",
         "rawType": "float64",
         "type": "float"
        },
        {
         "name": "Voter turnout",
         "rawType": "float64",
         "type": "float"
        },
        {
         "name": "Water quality",
         "rawType": "float64",
         "type": "float"
        },
        {
         "name": "Years in education",
         "rawType": "float64",
         "type": "float"
        }
       ],
       "conversionMethod": "pd.DataFrame",
       "ref": "f139e68f-ffa1-4fe4-90ab-7e51ff0cf47f",
       "rows": [
        [
         "1",
         "Austria",
         "12.2",
         "0.8",
         "86.0",
         "5.3",
         "72.0",
         "86.0",
         "0.5",
         "37001.0",
         "309637.0",
         "20.8",
         "2.3",
         "82.0",
         "7.2",
         "1.3",
         "53132.0",
         "92.0",
         "1.6",
         "71.0",
         "1.3",
         "491.0",
         "14.51",
         "76.0",
         "92.0",
         "17.0"
        ],
        [
         "2",
         "Belgium",
         "12.8",
         "0.7",
         "80.0",
         "4.3",
         "65.0",
         "56.0",
         "1.1",
         "34884.0",
         "447607.0",
         "20.0",
         "2.4",
         "82.1",
         "6.8",
         "2.3",
         "54327.0",
         "90.0",
         "2.1",
         "74.0",
         "2.0",
         "500.0",
         "15.52",
         "88.0",
         "79.0",
         "19.0"
        ],
        [
         "4",
         "Canada",
         "7.1",
         "0.2",
         "92.0",
         "3.3",
         "70.0",
         "78.0",
         "1.2",
         "34421.0",
         "478240.0",
         "22.9",
         "3.8",
         "82.1",
         "7.0",
         "0.5",
         "55342.0",
         "93.0",
         "2.6",
         "89.0",
         "2.9",
         "517.0",
         "14.57",
         "68.0",
         "90.0",
         "17.0"
        ],
        [
         "10",
         "Estonia",
         "5.9",
         "5.7",
         "91.0",
         "2.2",
         "74.0",
         "79.0",
         "1.9",
         "23784.0",
         "188627.0",
         "17.0",
         "5.4",
         "78.8",
         "6.5",
         "1.2",
         "30720.0",
         "95.0",
         "1.7",
         "57.0",
         "2.7",
         "526.0",
         "14.98",
         "64.0",
         "86.0",
         "18.0"
        ],
        [
         "11",
         "Finland",
         "5.5",
         "0.4",
         "91.0",
         "3.6",
         "72.0",
         "88.0",
         "0.7",
         "33471.0",
         "230032.0",
         "23.1",
         "2.2",
         "82.1",
         "7.9",
         "1.2",
         "46230.0",
         "96.0",
         "1.9",
         "68.0",
         "2.2",
         "516.0",
         "15.17",
         "69.0",
         "97.0",
         "20.0"
        ]
       ],
       "shape": {
        "columns": 25,
        "rows": 5
       }
      },
      "text/html": [
       "<div>\n",
       "<style scoped>\n",
       "    .dataframe tbody tr th:only-of-type {\n",
       "        vertical-align: middle;\n",
       "    }\n",
       "\n",
       "    .dataframe tbody tr th {\n",
       "        vertical-align: top;\n",
       "    }\n",
       "\n",
       "    .dataframe thead th {\n",
       "        text-align: right;\n",
       "    }\n",
       "</style>\n",
       "<table border=\"1\" class=\"dataframe\">\n",
       "  <thead>\n",
       "    <tr style=\"text-align: right;\">\n",
       "      <th>Indicator</th>\n",
       "      <th>Country</th>\n",
       "      <th>Air pollution</th>\n",
       "      <th>Dwellings without basic facilities</th>\n",
       "      <th>Educational attainment</th>\n",
       "      <th>Employees working very long hours</th>\n",
       "      <th>Employment rate</th>\n",
       "      <th>Feeling safe walking alone at night</th>\n",
       "      <th>Homicide rate</th>\n",
       "      <th>Household net adjusted disposable income</th>\n",
       "      <th>Household net wealth</th>\n",
       "      <th>...</th>\n",
       "      <th>Personal earnings</th>\n",
       "      <th>Quality of support network</th>\n",
       "      <th>Rooms per person</th>\n",
       "      <th>Self-reported health</th>\n",
       "      <th>Stakeholder engagement for developing regulations</th>\n",
       "      <th>Student skills</th>\n",
       "      <th>Time devoted to leisure and personal care</th>\n",
       "      <th>Voter turnout</th>\n",
       "      <th>Water quality</th>\n",
       "      <th>Years in education</th>\n",
       "    </tr>\n",
       "  </thead>\n",
       "  <tbody>\n",
       "    <tr>\n",
       "      <th>1</th>\n",
       "      <td>Austria</td>\n",
       "      <td>12.2</td>\n",
       "      <td>0.8</td>\n",
       "      <td>86.0</td>\n",
       "      <td>5.3</td>\n",
       "      <td>72.0</td>\n",
       "      <td>86.0</td>\n",
       "      <td>0.5</td>\n",
       "      <td>37001.0</td>\n",
       "      <td>309637.0</td>\n",
       "      <td>...</td>\n",
       "      <td>53132.0</td>\n",
       "      <td>92.0</td>\n",
       "      <td>1.6</td>\n",
       "      <td>71.0</td>\n",
       "      <td>1.3</td>\n",
       "      <td>491.0</td>\n",
       "      <td>14.51</td>\n",
       "      <td>76.0</td>\n",
       "      <td>92.0</td>\n",
       "      <td>17.0</td>\n",
       "    </tr>\n",
       "    <tr>\n",
       "      <th>2</th>\n",
       "      <td>Belgium</td>\n",
       "      <td>12.8</td>\n",
       "      <td>0.7</td>\n",
       "      <td>80.0</td>\n",
       "      <td>4.3</td>\n",
       "      <td>65.0</td>\n",
       "      <td>56.0</td>\n",
       "      <td>1.1</td>\n",
       "      <td>34884.0</td>\n",
       "      <td>447607.0</td>\n",
       "      <td>...</td>\n",
       "      <td>54327.0</td>\n",
       "      <td>90.0</td>\n",
       "      <td>2.1</td>\n",
       "      <td>74.0</td>\n",
       "      <td>2.0</td>\n",
       "      <td>500.0</td>\n",
       "      <td>15.52</td>\n",
       "      <td>88.0</td>\n",
       "      <td>79.0</td>\n",
       "      <td>19.0</td>\n",
       "    </tr>\n",
       "    <tr>\n",
       "      <th>4</th>\n",
       "      <td>Canada</td>\n",
       "      <td>7.1</td>\n",
       "      <td>0.2</td>\n",
       "      <td>92.0</td>\n",
       "      <td>3.3</td>\n",
       "      <td>70.0</td>\n",
       "      <td>78.0</td>\n",
       "      <td>1.2</td>\n",
       "      <td>34421.0</td>\n",
       "      <td>478240.0</td>\n",
       "      <td>...</td>\n",
       "      <td>55342.0</td>\n",
       "      <td>93.0</td>\n",
       "      <td>2.6</td>\n",
       "      <td>89.0</td>\n",
       "      <td>2.9</td>\n",
       "      <td>517.0</td>\n",
       "      <td>14.57</td>\n",
       "      <td>68.0</td>\n",
       "      <td>90.0</td>\n",
       "      <td>17.0</td>\n",
       "    </tr>\n",
       "    <tr>\n",
       "      <th>10</th>\n",
       "      <td>Estonia</td>\n",
       "      <td>5.9</td>\n",
       "      <td>5.7</td>\n",
       "      <td>91.0</td>\n",
       "      <td>2.2</td>\n",
       "      <td>74.0</td>\n",
       "      <td>79.0</td>\n",
       "      <td>1.9</td>\n",
       "      <td>23784.0</td>\n",
       "      <td>188627.0</td>\n",
       "      <td>...</td>\n",
       "      <td>30720.0</td>\n",
       "      <td>95.0</td>\n",
       "      <td>1.7</td>\n",
       "      <td>57.0</td>\n",
       "      <td>2.7</td>\n",
       "      <td>526.0</td>\n",
       "      <td>14.98</td>\n",
       "      <td>64.0</td>\n",
       "      <td>86.0</td>\n",
       "      <td>18.0</td>\n",
       "    </tr>\n",
       "    <tr>\n",
       "      <th>11</th>\n",
       "      <td>Finland</td>\n",
       "      <td>5.5</td>\n",
       "      <td>0.4</td>\n",
       "      <td>91.0</td>\n",
       "      <td>3.6</td>\n",
       "      <td>72.0</td>\n",
       "      <td>88.0</td>\n",
       "      <td>0.7</td>\n",
       "      <td>33471.0</td>\n",
       "      <td>230032.0</td>\n",
       "      <td>...</td>\n",
       "      <td>46230.0</td>\n",
       "      <td>96.0</td>\n",
       "      <td>1.9</td>\n",
       "      <td>68.0</td>\n",
       "      <td>2.2</td>\n",
       "      <td>516.0</td>\n",
       "      <td>15.17</td>\n",
       "      <td>69.0</td>\n",
       "      <td>97.0</td>\n",
       "      <td>20.0</td>\n",
       "    </tr>\n",
       "  </tbody>\n",
       "</table>\n",
       "<p>5 rows × 25 columns</p>\n",
       "</div>"
      ],
      "text/plain": [
       "Indicator  Country  Air pollution  Dwellings without basic facilities  \\\n",
       "1          Austria           12.2                                 0.8   \n",
       "2          Belgium           12.8                                 0.7   \n",
       "4           Canada            7.1                                 0.2   \n",
       "10         Estonia            5.9                                 5.7   \n",
       "11         Finland            5.5                                 0.4   \n",
       "\n",
       "Indicator  Educational attainment  Employees working very long hours  \\\n",
       "1                            86.0                                5.3   \n",
       "2                            80.0                                4.3   \n",
       "4                            92.0                                3.3   \n",
       "10                           91.0                                2.2   \n",
       "11                           91.0                                3.6   \n",
       "\n",
       "Indicator  Employment rate  Feeling safe walking alone at night  \\\n",
       "1                     72.0                                 86.0   \n",
       "2                     65.0                                 56.0   \n",
       "4                     70.0                                 78.0   \n",
       "10                    74.0                                 79.0   \n",
       "11                    72.0                                 88.0   \n",
       "\n",
       "Indicator  Homicide rate  Household net adjusted disposable income  \\\n",
       "1                    0.5                                   37001.0   \n",
       "2                    1.1                                   34884.0   \n",
       "4                    1.2                                   34421.0   \n",
       "10                   1.9                                   23784.0   \n",
       "11                   0.7                                   33471.0   \n",
       "\n",
       "Indicator  Household net wealth  ...  Personal earnings  \\\n",
       "1                      309637.0  ...            53132.0   \n",
       "2                      447607.0  ...            54327.0   \n",
       "4                      478240.0  ...            55342.0   \n",
       "10                     188627.0  ...            30720.0   \n",
       "11                     230032.0  ...            46230.0   \n",
       "\n",
       "Indicator  Quality of support network  Rooms per person  Self-reported health  \\\n",
       "1                                92.0               1.6                  71.0   \n",
       "2                                90.0               2.1                  74.0   \n",
       "4                                93.0               2.6                  89.0   \n",
       "10                               95.0               1.7                  57.0   \n",
       "11                               96.0               1.9                  68.0   \n",
       "\n",
       "Indicator  Stakeholder engagement for developing regulations  Student skills  \\\n",
       "1                                                        1.3           491.0   \n",
       "2                                                        2.0           500.0   \n",
       "4                                                        2.9           517.0   \n",
       "10                                                       2.7           526.0   \n",
       "11                                                       2.2           516.0   \n",
       "\n",
       "Indicator  Time devoted to leisure and personal care  Voter turnout  \\\n",
       "1                                              14.51           76.0   \n",
       "2                                              15.52           88.0   \n",
       "4                                              14.57           68.0   \n",
       "10                                             14.98           64.0   \n",
       "11                                             15.17           69.0   \n",
       "\n",
       "Indicator  Water quality  Years in education  \n",
       "1                   92.0                17.0  \n",
       "2                   79.0                19.0  \n",
       "4                   90.0                17.0  \n",
       "10                  86.0                18.0  \n",
       "11                  97.0                20.0  \n",
       "\n",
       "[5 rows x 25 columns]"
      ]
     },
     "execution_count": 28,
     "metadata": {},
     "output_type": "execute_result"
    }
   ],
   "source": [
    "pivot_df = pd.pivot_table(data= df, index='Country', columns='Indicator', values='OBS_VALUE', aggfunc='first')\n",
    "pivot_df = pivot_df.reset_index()\n",
    "pivot_df.dropna(inplace=True)\n",
    "\n",
    "pivot_df.head()"
   ]
  },
  {
   "cell_type": "code",
   "execution_count": 29,
   "id": "03b310b9",
   "metadata": {},
   "outputs": [],
   "source": [
    "y = pivot_df['Life satisfaction']\n",
    "x = pivot_df['Personal earnings']"
   ]
  },
  {
   "cell_type": "code",
   "execution_count": 30,
   "id": "61894297",
   "metadata": {},
   "outputs": [
    {
     "data": {
      "image/png": "[encoded data removed]",
      "text/plain": [
       "<Figure size 800x600 with 1 Axes>"
      ]
     },
     "metadata": {},
     "output_type": "display_data"
    }
   ],
   "source": [
    "plt.figure(figsize=(8,6))\n",
    "plt.scatter(x, y)\n",
    "plt.xlabel('Personal earnings')\n",
    "plt.ylabel('Life satisfaction')\n",
    "plt.grid(True)\n",
    "plt.show;"
   ]
  },
  {
   "cell_type": "markdown",
   "id": "bc4a4709",
   "metadata": {},
   "source": [
    "Primeiro, precisamos calcular o <b>coeficiente angular</b>. É a partir dele que vamos encontrar o valor da inclinação da reta em relação ao eixo horizontal (x). Podemos obtê-lo a partir da seguinte formula:\n",
    "\n",
    "$$\n",
    "b_1 = \\frac{\\sum_{i=1}^{n} (x_i - \\bar{x})(y_i - \\bar{y})}{\\sum_{i=1}^{n} (x_i - \\bar{x})^2}\n",
    "$$\n",
    "\n",
    "onde:\n",
    "\n",
    "- $b_1$ representa o coeficiente angular.\n",
    "- $n$ é o número total de observações.\n",
    "- $x_i$ é o valor da variável independente para a i-ésima observação.\n",
    "- $y_i$ é o valor da variável dependente para a i-ésima observação.\n",
    "- $\\bar{x}$ é a média de todos os valores da variável independente.\n",
    "- $\\bar{y}$ é a média de todos os valores da variável dependente.\n"
   ]
  },
  {
   "cell_type": "code",
   "execution_count": 31,
   "id": "449655ac",
   "metadata": {},
   "outputs": [
    {
     "name": "stdout",
     "output_type": "stream",
     "text": [
      "0.000034\n"
     ]
    }
   ],
   "source": [
    "# na pratica\n",
    "\n",
    "# calculando o número total de observações\n",
    "n = len(x) # 'n' o número total de observações\n",
    "\n",
    "# calculando as médias das váriaveis\n",
    "media_x = np.mean(x)\n",
    "media_y = np.mean(y)\n",
    "\n",
    "\n",
    "# calculando o númerador \n",
    "# para cada ponto, calculamos a diferença entre o valor de x e a sua média (covariância)\n",
    "# e a diferença entre o valor de y e sua média. Multiplicamos essas diferenças\n",
    "# para cada ponto e somamos todos esses produtos.\n",
    "numerador = np.sum((x - media_x) * (y - media_y))\n",
    "\n",
    "# calculando o denominador\n",
    "# Para cada ponto de dado, calculamos a diferença entre o valor de x e sua média\n",
    "# elevamos essa difereça ao quadrado e somamos todos esses quadrados.\n",
    "denominador = np.sum((x - media_x) ** 2)\n",
    "\n",
    "# b1 representa a inclinação da reta.\n",
    "# Isso nos dis o quanto a variável y muda em média para cada aumento na variável x\n",
    "b1 = numerador / denominador\n",
    "\n",
    "print(f'{b1:.6f}')"
   ]
  },
  {
   "cell_type": "markdown",
   "id": "e75fad39",
   "metadata": {},
   "source": [
    "Agora precisamos encontrar o valor do <b>intercepto</b>, ele calcula o valor de $y$ quando $x$ for igual a <b>zero</b>.\n",
    "Podemos obtê-lo a partir da seguinte formula:\n",
    "\n",
    "$$ b_0 = \\bar{y} - B_1\\bar{x} $$\n",
    "\n",
    "Onde:\n",
    "- $b_o$ é o intercept.\n",
    "- $\\bar{y}$ é a media de todos os valores da variavel $y$.\n",
    "- $b_1$ é o coeficiente angular.\n",
    "- $\\bar{x}$ é a média de todos os valore independentes"
   ]
  },
  {
   "cell_type": "code",
   "execution_count": 32,
   "id": "475a8da2",
   "metadata": {},
   "outputs": [
    {
     "name": "stdout",
     "output_type": "stream",
     "text": [
      "O valor do intercepto é: 5.26\n"
     ]
    }
   ],
   "source": [
    "# calcular o intercepto\n",
    "b0 = media_y - (b1 * media_x)\n",
    "b0\n",
    "\n",
    "print(f'O valor do intercepto é: {b0:.2f}')"
   ]
  },
  {
   "cell_type": "code",
   "execution_count": null,
   "id": "db630883",
   "metadata": {},
   "outputs": [
    {
     "name": "stdout",
     "output_type": "stream",
     "text": [
      "price = 0.000034 * area + (5.26)\n"
     ]
    }
   ],
   "source": [
    "# teremos a seguinte equação\n",
    "print(f\"price = {b1:.6f} * area + ({b0:.2f})\")"
   ]
  },
  {
   "cell_type": "code",
   "execution_count": null,
   "id": "c5e18e79",
   "metadata": {},
   "outputs": [
    {
     "data": {
      "application/vnd.microsoft.datawrangler.viewer.v0+json": {
       "columns": [
        {
         "name": "index",
         "rawType": "int64",
         "type": "integer"
        },
        {
         "name": "Personal earnings",
         "rawType": "float64",
         "type": "float"
        },
        {
         "name": "Life satisfaction",
         "rawType": "float64",
         "type": "float"
        },
        {
         "name": "y_previsto",
         "rawType": "float64",
         "type": "float"
        }
       ],
       "conversionMethod": "pd.DataFrame",
       "ref": "85c3dd28-3548-4131-8b0d-117886720fe1",
       "rows": [
        [
         "1",
         "53132.0",
         "7.2",
         "7.050351866994012"
        ],
        [
         "2",
         "54327.0",
         "6.8",
         "7.090617754173258"
        ],
        [
         "4",
         "55342.0",
         "7.0",
         "7.124818486798308"
        ],
        [
         "10",
         "30720.0",
         "6.5",
         "6.295172734390448"
        ],
        [
         "11",
         "46230.0",
         "7.9",
         "6.817786885143673"
        ],
        [
         "12",
         "45581.0",
         "6.7",
         "6.795918633445488"
        ],
        [
         "13",
         "53745.0",
         "7.3",
         "7.071007087781357"
        ],
        [
         "14",
         "27207.0",
         "5.8",
         "6.176801134674388"
        ],
        [
         "15",
         "25409.0",
         "6.0",
         "6.116216979738586"
        ],
        [
         "17",
         "49474.0",
         "7.0",
         "6.927094448331517"
        ],
        [
         "19",
         "37769.0",
         "6.5",
         "6.53269092579338"
        ],
        [
         "26",
         "58828.0",
         "7.5",
         "7.2422803133312375"
        ],
        [
         "28",
         "55780.0",
         "7.3",
         "7.139577029546851"
        ],
        [
         "29",
         "49165.0",
         "6.7",
         "6.916682599680147"
        ],
        [
         "30",
         "32527.0",
         "6.1",
         "6.35606014705396"
        ],
        [
         "40",
         "47147.0",
         "6.8",
         "6.848685478066994"
        ],
        [
         "41",
         "69392.0",
         "7.0",
         "7.598237495056388"
        ]
       ],
       "shape": {
        "columns": 3,
        "rows": 17
       }
      },
      "text/html": [
       "<div>\n",
       "<style scoped>\n",
       "    .dataframe tbody tr th:only-of-type {\n",
       "        vertical-align: middle;\n",
       "    }\n",
       "\n",
       "    .dataframe tbody tr th {\n",
       "        vertical-align: top;\n",
       "    }\n",
       "\n",
       "    .dataframe thead th {\n",
       "        text-align: right;\n",
       "    }\n",
       "</style>\n",
       "<table border=\"1\" class=\"dataframe\">\n",
       "  <thead>\n",
       "    <tr style=\"text-align: right;\">\n",
       "      <th>Indicator</th>\n",
       "      <th>Personal earnings</th>\n",
       "      <th>Life satisfaction</th>\n",
       "      <th>y_previsto</th>\n",
       "    </tr>\n",
       "  </thead>\n",
       "  <tbody>\n",
       "    <tr>\n",
       "      <th>1</th>\n",
       "      <td>53132.0</td>\n",
       "      <td>7.2</td>\n",
       "      <td>7.050352</td>\n",
       "    </tr>\n",
       "    <tr>\n",
       "      <th>2</th>\n",
       "      <td>54327.0</td>\n",
       "      <td>6.8</td>\n",
       "      <td>7.090618</td>\n",
       "    </tr>\n",
       "    <tr>\n",
       "      <th>4</th>\n",
       "      <td>55342.0</td>\n",
       "      <td>7.0</td>\n",
       "      <td>7.124818</td>\n",
       "    </tr>\n",
       "    <tr>\n",
       "      <th>10</th>\n",
       "      <td>30720.0</td>\n",
       "      <td>6.5</td>\n",
       "      <td>6.295173</td>\n",
       "    </tr>\n",
       "    <tr>\n",
       "      <th>11</th>\n",
       "      <td>46230.0</td>\n",
       "      <td>7.9</td>\n",
       "      <td>6.817787</td>\n",
       "    </tr>\n",
       "    <tr>\n",
       "      <th>12</th>\n",
       "      <td>45581.0</td>\n",
       "      <td>6.7</td>\n",
       "      <td>6.795919</td>\n",
       "    </tr>\n",
       "    <tr>\n",
       "      <th>13</th>\n",
       "      <td>53745.0</td>\n",
       "      <td>7.3</td>\n",
       "      <td>7.071007</td>\n",
       "    </tr>\n",
       "    <tr>\n",
       "      <th>14</th>\n",
       "      <td>27207.0</td>\n",
       "      <td>5.8</td>\n",
       "      <td>6.176801</td>\n",
       "    </tr>\n",
       "    <tr>\n",
       "      <th>15</th>\n",
       "      <td>25409.0</td>\n",
       "      <td>6.0</td>\n",
       "      <td>6.116217</td>\n",
       "    </tr>\n",
       "    <tr>\n",
       "      <th>17</th>\n",
       "      <td>49474.0</td>\n",
       "      <td>7.0</td>\n",
       "      <td>6.927094</td>\n",
       "    </tr>\n",
       "    <tr>\n",
       "      <th>19</th>\n",
       "      <td>37769.0</td>\n",
       "      <td>6.5</td>\n",
       "      <td>6.532691</td>\n",
       "    </tr>\n",
       "    <tr>\n",
       "      <th>26</th>\n",
       "      <td>58828.0</td>\n",
       "      <td>7.5</td>\n",
       "      <td>7.242280</td>\n",
       "    </tr>\n",
       "    <tr>\n",
       "      <th>28</th>\n",
       "      <td>55780.0</td>\n",
       "      <td>7.3</td>\n",
       "      <td>7.139577</td>\n",
       "    </tr>\n",
       "    <tr>\n",
       "      <th>29</th>\n",
       "      <td>49165.0</td>\n",
       "      <td>6.7</td>\n",
       "      <td>6.916683</td>\n",
       "    </tr>\n",
       "    <tr>\n",
       "      <th>30</th>\n",
       "      <td>32527.0</td>\n",
       "      <td>6.1</td>\n",
       "      <td>6.356060</td>\n",
       "    </tr>\n",
       "    <tr>\n",
       "      <th>40</th>\n",
       "      <td>47147.0</td>\n",
       "      <td>6.8</td>\n",
       "      <td>6.848685</td>\n",
       "    </tr>\n",
       "    <tr>\n",
       "      <th>41</th>\n",
       "      <td>69392.0</td>\n",
       "      <td>7.0</td>\n",
       "      <td>7.598237</td>\n",
       "    </tr>\n",
       "  </tbody>\n",
       "</table>\n",
       "</div>"
      ],
      "text/plain": [
       "Indicator  Personal earnings  Life satisfaction  y_previsto\n",
       "1                    53132.0                7.2    7.050352\n",
       "2                    54327.0                6.8    7.090618\n",
       "4                    55342.0                7.0    7.124818\n",
       "10                   30720.0                6.5    6.295173\n",
       "11                   46230.0                7.9    6.817787\n",
       "12                   45581.0                6.7    6.795919\n",
       "13                   53745.0                7.3    7.071007\n",
       "14                   27207.0                5.8    6.176801\n",
       "15                   25409.0                6.0    6.116217\n",
       "17                   49474.0                7.0    6.927094\n",
       "19                   37769.0                6.5    6.532691\n",
       "26                   58828.0                7.5    7.242280\n",
       "28                   55780.0                7.3    7.139577\n",
       "29                   49165.0                6.7    6.916683\n",
       "30                   32527.0                6.1    6.356060\n",
       "40                   47147.0                6.8    6.848685\n",
       "41                   69392.0                7.0    7.598237"
      ]
     },
     "execution_count": 34,
     "metadata": {},
     "output_type": "execute_result"
    }
   ],
   "source": [
    "# aplicando a equação\n",
    "pivot_df = pivot_df[['Personal earnings', 'Life satisfaction']]\n",
    "pivot_df['y_previsto'] = b1 * x + b0\n",
    "pivot_df"
   ]
  },
  {
   "cell_type": "code",
   "execution_count": null,
   "id": "5914401b",
   "metadata": {},
   "outputs": [
    {
     "data": {
      "image/png": "[encoded data removed]",
      "text/plain": [
       "<Figure size 600x400 with 1 Axes>"
      ]
     },
     "metadata": {},
     "output_type": "display_data"
    }
   ],
   "source": [
    "# visualizando a linha da equação\n",
    "plt.figure(figsize=(6,4))\n",
    "plt.scatter(x, y)\n",
    "plt.xlabel('Personal earnings')\n",
    "plt.ylabel('Life satisfaction')\n",
    "plt.plot(x,pivot_df['y_previsto'], color='red', label='Regressão Linear')\n",
    "plt.grid(True)\n",
    "plt.legend() \n",
    "plt.show;"
   ]
  },
  {
   "cell_type": "markdown",
   "id": "19b545bd",
   "metadata": {},
   "source": [
    "De maneira simplificada, podemos calcular a precisão do modelo travéz do <b>Erro quadratico médio (MSE em ingles)</b>.\n",
    "\n",
    "$$ \n",
    "MSE = \\frac{1}{n} \\sum_{i=1}^{n} (y_i - \\hat{y}_i)^2\n",
    "$$\n",
    "\n",
    "onde:\n",
    "- $n$ é o número total de observações.\n",
    "- $\\sum_{i=1}^{n}$ indica a soma de todos os valores de $i$ de 1 até $n$.\n",
    "- y_i$ é o valore real da i-ésima observação.\n",
    "- $\\hat{y}_i$ é o valor previsto para a i-ésima observação.\n",
    "- $(y_i - \\hat{y}_1)^2$ é o erro quadratico, ou  seja, a diferença entre o valore real e o previsto elevado ao quadrado.\n"
   ]
  },
  {
   "cell_type": "code",
   "execution_count": null,
   "id": "bfd4d4bf",
   "metadata": {},
   "outputs": [
    {
     "name": "stdout",
     "output_type": "stream",
     "text": [
      "Erro quadratico médio: 0.12\n"
     ]
    },
    {
     "data": {
      "application/vnd.microsoft.datawrangler.viewer.v0+json": {
       "columns": [
        {
         "name": "index",
         "rawType": "int64",
         "type": "integer"
        },
        {
         "name": "Personal earnings",
         "rawType": "float64",
         "type": "float"
        },
        {
         "name": "Life satisfaction",
         "rawType": "float64",
         "type": "float"
        },
        {
         "name": "y_previsto",
         "rawType": "float64",
         "type": "float"
        },
        {
         "name": "erro",
         "rawType": "float64",
         "type": "float"
        }
       ],
       "conversionMethod": "pd.DataFrame",
       "ref": "f77850f6-db51-4d6b-9e2d-e726c3c3e42a",
       "rows": [
        [
         "1",
         "53132.0",
         "7.2",
         "7.050351866994012",
         "0.02239456371217801"
        ],
        [
         "2",
         "54327.0",
         "6.8",
         "7.090617754173258",
         "0.08445867904070833"
        ],
        [
         "4",
         "55342.0",
         "7.0",
         "7.124818486798308",
         "0.015579654646619328"
        ],
        [
         "10",
         "30720.0",
         "6.5",
         "6.295172734390448",
         "0.04195420873708596"
        ],
        [
         "11",
         "46230.0",
         "7.9",
         "6.817786885143673",
         "1.1711852259670346"
        ],
        [
         "12",
         "45581.0",
         "6.7",
         "6.795918633445488",
         "0.009200384242049935"
        ],
        [
         "13",
         "53745.0",
         "7.3",
         "7.071007087781357",
         "0.052437753846375"
        ],
        [
         "14",
         "27207.0",
         "5.8",
         "6.176801134674388",
         "0.14197909509190665"
        ],
        [
         "15",
         "25409.0",
         "6.0",
         "6.116216979738586",
         "0.013506386379558888"
        ],
        [
         "17",
         "49474.0",
         "7.0",
         "6.927094448331517",
         "0.005315219464085829"
        ],
        [
         "19",
         "37769.0",
         "6.5",
         "6.53269092579338",
         "0.0010686966292282967"
        ],
        [
         "26",
         "58828.0",
         "7.5",
         "7.2422803133312375",
         "0.06641943689664515"
        ],
        [
         "28",
         "55780.0",
         "7.3",
         "7.139577029546851",
         "0.02573552944901178"
        ],
        [
         "29",
         "49165.0",
         "6.7",
         "6.916682599680147",
         "0.046951349004146804"
        ],
        [
         "30",
         "32527.0",
         "6.1",
         "6.35606014705396",
         "0.065566798909296"
        ],
        [
         "40",
         "47147.0",
         "6.8",
         "6.848685478066994",
         "0.00237027577461174"
        ],
        [
         "41",
         "69392.0",
         "7.0",
         "7.598237495056388",
         "0.3578881004913419"
        ]
       ],
       "shape": {
        "columns": 4,
        "rows": 17
       }
      },
      "text/html": [
       "<div>\n",
       "<style scoped>\n",
       "    .dataframe tbody tr th:only-of-type {\n",
       "        vertical-align: middle;\n",
       "    }\n",
       "\n",
       "    .dataframe tbody tr th {\n",
       "        vertical-align: top;\n",
       "    }\n",
       "\n",
       "    .dataframe thead th {\n",
       "        text-align: right;\n",
       "    }\n",
       "</style>\n",
       "<table border=\"1\" class=\"dataframe\">\n",
       "  <thead>\n",
       "    <tr style=\"text-align: right;\">\n",
       "      <th>Indicator</th>\n",
       "      <th>Personal earnings</th>\n",
       "      <th>Life satisfaction</th>\n",
       "      <th>y_previsto</th>\n",
       "      <th>erro</th>\n",
       "    </tr>\n",
       "  </thead>\n",
       "  <tbody>\n",
       "    <tr>\n",
       "      <th>1</th>\n",
       "      <td>53132.0</td>\n",
       "      <td>7.2</td>\n",
       "      <td>7.050352</td>\n",
       "      <td>0.022395</td>\n",
       "    </tr>\n",
       "    <tr>\n",
       "      <th>2</th>\n",
       "      <td>54327.0</td>\n",
       "      <td>6.8</td>\n",
       "      <td>7.090618</td>\n",
       "      <td>0.084459</td>\n",
       "    </tr>\n",
       "    <tr>\n",
       "      <th>4</th>\n",
       "      <td>55342.0</td>\n",
       "      <td>7.0</td>\n",
       "      <td>7.124818</td>\n",
       "      <td>0.015580</td>\n",
       "    </tr>\n",
       "    <tr>\n",
       "      <th>10</th>\n",
       "      <td>30720.0</td>\n",
       "      <td>6.5</td>\n",
       "      <td>6.295173</td>\n",
       "      <td>0.041954</td>\n",
       "    </tr>\n",
       "    <tr>\n",
       "      <th>11</th>\n",
       "      <td>46230.0</td>\n",
       "      <td>7.9</td>\n",
       "      <td>6.817787</td>\n",
       "      <td>1.171185</td>\n",
       "    </tr>\n",
       "    <tr>\n",
       "      <th>12</th>\n",
       "      <td>45581.0</td>\n",
       "      <td>6.7</td>\n",
       "      <td>6.795919</td>\n",
       "      <td>0.009200</td>\n",
       "    </tr>\n",
       "    <tr>\n",
       "      <th>13</th>\n",
       "      <td>53745.0</td>\n",
       "      <td>7.3</td>\n",
       "      <td>7.071007</td>\n",
       "      <td>0.052438</td>\n",
       "    </tr>\n",
       "    <tr>\n",
       "      <th>14</th>\n",
       "      <td>27207.0</td>\n",
       "      <td>5.8</td>\n",
       "      <td>6.176801</td>\n",
       "      <td>0.141979</td>\n",
       "    </tr>\n",
       "    <tr>\n",
       "      <th>15</th>\n",
       "      <td>25409.0</td>\n",
       "      <td>6.0</td>\n",
       "      <td>6.116217</td>\n",
       "      <td>0.013506</td>\n",
       "    </tr>\n",
       "    <tr>\n",
       "      <th>17</th>\n",
       "      <td>49474.0</td>\n",
       "      <td>7.0</td>\n",
       "      <td>6.927094</td>\n",
       "      <td>0.005315</td>\n",
       "    </tr>\n",
       "    <tr>\n",
       "      <th>19</th>\n",
       "      <td>37769.0</td>\n",
       "      <td>6.5</td>\n",
       "      <td>6.532691</td>\n",
       "      <td>0.001069</td>\n",
       "    </tr>\n",
       "    <tr>\n",
       "      <th>26</th>\n",
       "      <td>58828.0</td>\n",
       "      <td>7.5</td>\n",
       "      <td>7.242280</td>\n",
       "      <td>0.066419</td>\n",
       "    </tr>\n",
       "    <tr>\n",
       "      <th>28</th>\n",
       "      <td>55780.0</td>\n",
       "      <td>7.3</td>\n",
       "      <td>7.139577</td>\n",
       "      <td>0.025736</td>\n",
       "    </tr>\n",
       "    <tr>\n",
       "      <th>29</th>\n",
       "      <td>49165.0</td>\n",
       "      <td>6.7</td>\n",
       "      <td>6.916683</td>\n",
       "      <td>0.046951</td>\n",
       "    </tr>\n",
       "    <tr>\n",
       "      <th>30</th>\n",
       "      <td>32527.0</td>\n",
       "      <td>6.1</td>\n",
       "      <td>6.356060</td>\n",
       "      <td>0.065567</td>\n",
       "    </tr>\n",
       "    <tr>\n",
       "      <th>40</th>\n",
       "      <td>47147.0</td>\n",
       "      <td>6.8</td>\n",
       "      <td>6.848685</td>\n",
       "      <td>0.002370</td>\n",
       "    </tr>\n",
       "    <tr>\n",
       "      <th>41</th>\n",
       "      <td>69392.0</td>\n",
       "      <td>7.0</td>\n",
       "      <td>7.598237</td>\n",
       "      <td>0.357888</td>\n",
       "    </tr>\n",
       "  </tbody>\n",
       "</table>\n",
       "</div>"
      ],
      "text/plain": [
       "Indicator  Personal earnings  Life satisfaction  y_previsto      erro\n",
       "1                    53132.0                7.2    7.050352  0.022395\n",
       "2                    54327.0                6.8    7.090618  0.084459\n",
       "4                    55342.0                7.0    7.124818  0.015580\n",
       "10                   30720.0                6.5    6.295173  0.041954\n",
       "11                   46230.0                7.9    6.817787  1.171185\n",
       "12                   45581.0                6.7    6.795919  0.009200\n",
       "13                   53745.0                7.3    7.071007  0.052438\n",
       "14                   27207.0                5.8    6.176801  0.141979\n",
       "15                   25409.0                6.0    6.116217  0.013506\n",
       "17                   49474.0                7.0    6.927094  0.005315\n",
       "19                   37769.0                6.5    6.532691  0.001069\n",
       "26                   58828.0                7.5    7.242280  0.066419\n",
       "28                   55780.0                7.3    7.139577  0.025736\n",
       "29                   49165.0                6.7    6.916683  0.046951\n",
       "30                   32527.0                6.1    6.356060  0.065567\n",
       "40                   47147.0                6.8    6.848685  0.002370\n",
       "41                   69392.0                7.0    7.598237  0.357888"
      ]
     },
     "execution_count": 48,
     "metadata": {},
     "output_type": "execute_result"
    }
   ],
   "source": [
    "# Calculando o erro do modelo\n",
    "pivot_df['erro'] = (pivot_df['Life satisfaction'] - pivot_df['y_previsto'])**2\n",
    "erro_quadratico_medio = np.mean(pivot_df['erro'])\n",
    "print(f'Erro quadratico médio: {erro_quadratico_medio:.2f}')\n",
    "pivot_df\n"
   ]
  },
  {
   "cell_type": "markdown",
   "id": "a786a6d6",
   "metadata": {},
   "source": [
    "Nesse caso, obtivemos um MSE de 0.12, ou seja, é o quanto os pontos de dados se afastam da linha traçada.\n",
    "\n",
    "<p>O desenvolvimente de um modelo é algo muito mais complexo do que isso. Aqui, a minha ideia foi apenas, praticar de maneira um pouco manual a forma de é realizado o calculo básico de um regressão linear."
   ]
  }
 ],
 "metadata": {
  "kernelspec": {
   "display_name": "AmbientePython",
   "language": "python",
   "name": "python3"
  },
  "language_info": {
   "codemirror_mode": {
    "name": "ipython",
    "version": 3
   },
   "file_extension": ".py",
   "mimetype": "text/x-python",
   "name": "python",
   "nbconvert_exporter": "python",
   "pygments_lexer": "ipython3",
   "version": "3.13.3"
  }
 },
 "nbformat": 4,
 "nbformat_minor": 5
}
