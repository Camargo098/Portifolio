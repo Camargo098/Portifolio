{
 "cells": [
  {
   "cell_type": "markdown",
   "id": "bde4ea13",
   "metadata": {},
   "source": [
    "<h3><b>Análise de dados ContosoRetailDW: Desvendando insights de negócio com SQL.</h3></b>\n",
    "\n",
    "<b>Introdução:</b>\n",
    "\n",
    "Como analista de dados, a capacidade de extrair informações de grandes conjuntos de dados é fundamental. Este projeto tem como objetivo principal a pratica e aplicação do SQL para extrair, manipular e analisar dados para obter insights a partir do banco de dados ContosoRetailDW.\n",
    "\n",
    "<b>Objetivo:</b>\n",
    "\n",
    "O principal objetivo deste projeto é aprimorar e exibir minhas proficiências em SQL por meio de uma análise abrangente dos dados da Contoso. Minha meta é responder a perguntas de negócio cruciais, realizar análises aprofundadas e validar os resultados, culminando em conclusões acionáveis e recomendações estratégicas para impulsionar o sucesso da Contoso. Este exercício servirá como um portfólio prático de minhas capacidades analíticas e de manipulação de dados em SQL."
   ]
  },
  {
   "cell_type": "code",
   "execution_count": 2,
   "id": "dce96205",
   "metadata": {},
   "outputs": [],
   "source": [
    "import pyodbc\n",
    "import pandas as pd\n",
    "from dotenv import load_dotenv\n",
    "import os\n",
    "import matplotlib.pyplot as plt\n",
    "import warnings\n",
    "\n",
    "warnings.filterwarnings('ignore', category=UserWarning,)\n",
    "\n",
    "\n",
    "load_dotenv()\n",
    "\n",
    "conn = pyodbc.connect(\n",
    "    \"DRIVER={ODBC Driver 17 for SQL Server};\"  \n",
    "    f\"SERVER={os.getenv('DB_SERVER')};\"\n",
    "    \"DATABASE=ContosoRetailDW;\"  \n",
    "    f\"UID={os.getenv('DB_USER')};\"\n",
    "    f\"PWD={os.getenv('DB_PASSWORD')}\"\n",
    ")\n"
   ]
  },
  {
   "cell_type": "markdown",
   "id": "12134d70",
   "metadata": {},
   "source": [
    "<h4><b>1. Qual o total de vendas (SalesAmount) e quantidade de vendas (SalesQuantity) por ano e mês?</h4></b>"
   ]
  },
  {
   "cell_type": "code",
   "execution_count": 3,
   "id": "aceefa8b",
   "metadata": {},
   "outputs": [
    {
     "data": {
      "application/vnd.microsoft.datawrangler.viewer.v0+json": {
       "columns": [
        {
         "name": "index",
         "rawType": "int64",
         "type": "integer"
        },
        {
         "name": "Year",
         "rawType": "int64",
         "type": "integer"
        },
        {
         "name": "MonthNumber",
         "rawType": "int64",
         "type": "integer"
        },
        {
         "name": "MonthName",
         "rawType": "object",
         "type": "string"
        },
        {
         "name": "TotalSalesAmount",
         "rawType": "float64",
         "type": "float"
        },
        {
         "name": "TotalSalesQuantity",
         "rawType": "int64",
         "type": "integer"
        },
        {
         "name": "AverageUnitPrice",
         "rawType": "float64",
         "type": "float"
        }
       ],
       "ref": "a448fe19-6b25-4daf-a54a-1f9f5032fc65",
       "rows": [
        [
         "0",
         "2007",
         "200701",
         "January",
         "269835263.2337",
         "1164359",
         "231.7457"
        ],
        [
         "1",
         "2007",
         "200702",
         "February",
         "298215968.3498",
         "1160226",
         "257.0326"
        ],
        [
         "2",
         "2007",
         "200703",
         "March",
         "300486926.9015",
         "1158003",
         "259.4871"
        ],
        [
         "3",
         "2007",
         "200704",
         "April",
         "400160331.5966",
         "1540164",
         "259.8167"
        ],
        [
         "4",
         "2007",
         "200705",
         "May",
         "423429127.7894",
         "1578798",
         "268.1971"
        ]
       ],
       "shape": {
        "columns": 6,
        "rows": 5
       }
      },
      "text/html": [
       "<div>\n",
       "<style scoped>\n",
       "    .dataframe tbody tr th:only-of-type {\n",
       "        vertical-align: middle;\n",
       "    }\n",
       "\n",
       "    .dataframe tbody tr th {\n",
       "        vertical-align: top;\n",
       "    }\n",
       "\n",
       "    .dataframe thead th {\n",
       "        text-align: right;\n",
       "    }\n",
       "</style>\n",
       "<table border=\"1\" class=\"dataframe\">\n",
       "  <thead>\n",
       "    <tr style=\"text-align: right;\">\n",
       "      <th></th>\n",
       "      <th>Year</th>\n",
       "      <th>MonthNumber</th>\n",
       "      <th>MonthName</th>\n",
       "      <th>TotalSalesAmount</th>\n",
       "      <th>TotalSalesQuantity</th>\n",
       "      <th>AverageUnitPrice</th>\n",
       "    </tr>\n",
       "  </thead>\n",
       "  <tbody>\n",
       "    <tr>\n",
       "      <th>0</th>\n",
       "      <td>2007</td>\n",
       "      <td>200701</td>\n",
       "      <td>January</td>\n",
       "      <td>2.698353e+08</td>\n",
       "      <td>1164359</td>\n",
       "      <td>231.7457</td>\n",
       "    </tr>\n",
       "    <tr>\n",
       "      <th>1</th>\n",
       "      <td>2007</td>\n",
       "      <td>200702</td>\n",
       "      <td>February</td>\n",
       "      <td>2.982160e+08</td>\n",
       "      <td>1160226</td>\n",
       "      <td>257.0326</td>\n",
       "    </tr>\n",
       "    <tr>\n",
       "      <th>2</th>\n",
       "      <td>2007</td>\n",
       "      <td>200703</td>\n",
       "      <td>March</td>\n",
       "      <td>3.004869e+08</td>\n",
       "      <td>1158003</td>\n",
       "      <td>259.4871</td>\n",
       "    </tr>\n",
       "    <tr>\n",
       "      <th>3</th>\n",
       "      <td>2007</td>\n",
       "      <td>200704</td>\n",
       "      <td>April</td>\n",
       "      <td>4.001603e+08</td>\n",
       "      <td>1540164</td>\n",
       "      <td>259.8167</td>\n",
       "    </tr>\n",
       "    <tr>\n",
       "      <th>4</th>\n",
       "      <td>2007</td>\n",
       "      <td>200705</td>\n",
       "      <td>May</td>\n",
       "      <td>4.234291e+08</td>\n",
       "      <td>1578798</td>\n",
       "      <td>268.1971</td>\n",
       "    </tr>\n",
       "  </tbody>\n",
       "</table>\n",
       "</div>"
      ],
      "text/plain": [
       "   Year  MonthNumber MonthName  TotalSalesAmount  TotalSalesQuantity  \\\n",
       "0  2007       200701   January      2.698353e+08             1164359   \n",
       "1  2007       200702  February      2.982160e+08             1160226   \n",
       "2  2007       200703     March      3.004869e+08             1158003   \n",
       "3  2007       200704     April      4.001603e+08             1540164   \n",
       "4  2007       200705       May      4.234291e+08             1578798   \n",
       "\n",
       "   AverageUnitPrice  \n",
       "0          231.7457  \n",
       "1          257.0326  \n",
       "2          259.4871  \n",
       "3          259.8167  \n",
       "4          268.1971  "
      ]
     },
     "execution_count": 3,
     "metadata": {},
     "output_type": "execute_result"
    }
   ],
   "source": [
    "query = \"\"\"\n",
    "SELECT\n",
    "    DD.CalendarYear AS Year,\n",
    "    DD.CalendarMonth AS MonthNumber,\n",
    "    DD.CalendarMonthLabel AS MonthName,\n",
    "    SUM(FS.SalesAmount) AS TotalSalesAmount,\n",
    "    SUM(FS.SalesQuantity) AS TotalSalesQuantity,\n",
    "    SUM(FS.SalesAmount) / NULLIF(SUM(FS.SalesQuantity), 0) AS AverageUnitPrice\n",
    "FROM\n",
    "    FactSales FS WITH (NOLOCK)\n",
    "JOIN\n",
    "    DimDate DD WITH (NOLOCK) ON FS.DateKey = DD.Datekey\n",
    "GROUP BY\n",
    "    DD.CalendarYear,\n",
    "    DD.CalendarMonth,\n",
    "    DD.CalendarMonthLabel\n",
    "ORDER BY\n",
    "    DD.CalendarYear,\n",
    "    DD.CalendarMonth;\n",
    "\"\"\"\n",
    "\n",
    "TotalSales = pd.read_sql(query, conn)\n",
    "\n",
    "TotalSales.head()\n"
   ]
  },
  {
   "cell_type": "code",
   "execution_count": 4,
   "id": "d0232c98",
   "metadata": {},
   "outputs": [
    {
     "data": {
      "application/vnd.microsoft.datawrangler.viewer.v0+json": {
       "columns": [
        {
         "name": "index",
         "rawType": "int64",
         "type": "integer"
        },
        {
         "name": "Year",
         "rawType": "int64",
         "type": "integer"
        },
        {
         "name": "TotalSalesAmount",
         "rawType": "float64",
         "type": "float"
        },
        {
         "name": "TotalSalesQuantity",
         "rawType": "int64",
         "type": "integer"
        },
        {
         "name": "AverageUnitPrice",
         "rawType": "float64",
         "type": "float"
        },
        {
         "name": "AnnualGrowth_Amount",
         "rawType": "float64",
         "type": "float"
        },
        {
         "name": "AnnualGrowth_Quantity",
         "rawType": "float64",
         "type": "float"
        }
       ],
       "ref": "51a99148-ff7d-4b3f-8e44-9d27984c10f0",
       "rows": [
        [
         "0",
         "2007",
         "4561940955.0212",
         "16984310",
         "268.5973675127927",
         null,
         null
        ],
        [
         "1",
         "2008",
         "4111233534.6841",
         "16511811",
         "248.9874390328293",
         "-9.879729369162904",
         "-2.7819734802296936"
        ],
        [
         "2",
         "2009",
         "3740483119.1822996",
         "19824333",
         "188.68141082891916",
         "-9.017984806117042",
         "20.061530500803325"
        ]
       ],
       "shape": {
        "columns": 6,
        "rows": 3
       }
      },
      "text/html": [
       "<div>\n",
       "<style scoped>\n",
       "    .dataframe tbody tr th:only-of-type {\n",
       "        vertical-align: middle;\n",
       "    }\n",
       "\n",
       "    .dataframe tbody tr th {\n",
       "        vertical-align: top;\n",
       "    }\n",
       "\n",
       "    .dataframe thead th {\n",
       "        text-align: right;\n",
       "    }\n",
       "</style>\n",
       "<table border=\"1\" class=\"dataframe\">\n",
       "  <thead>\n",
       "    <tr style=\"text-align: right;\">\n",
       "      <th></th>\n",
       "      <th>Year</th>\n",
       "      <th>TotalSalesAmount</th>\n",
       "      <th>TotalSalesQuantity</th>\n",
       "      <th>AverageUnitPrice</th>\n",
       "      <th>AnnualGrowth_Amount</th>\n",
       "      <th>AnnualGrowth_Quantity</th>\n",
       "    </tr>\n",
       "  </thead>\n",
       "  <tbody>\n",
       "    <tr>\n",
       "      <th>0</th>\n",
       "      <td>2007</td>\n",
       "      <td>4.561941e+09</td>\n",
       "      <td>16984310</td>\n",
       "      <td>268.597368</td>\n",
       "      <td>NaN</td>\n",
       "      <td>NaN</td>\n",
       "    </tr>\n",
       "    <tr>\n",
       "      <th>1</th>\n",
       "      <td>2008</td>\n",
       "      <td>4.111234e+09</td>\n",
       "      <td>16511811</td>\n",
       "      <td>248.987439</td>\n",
       "      <td>-9.879729</td>\n",
       "      <td>-2.781973</td>\n",
       "    </tr>\n",
       "    <tr>\n",
       "      <th>2</th>\n",
       "      <td>2009</td>\n",
       "      <td>3.740483e+09</td>\n",
       "      <td>19824333</td>\n",
       "      <td>188.681411</td>\n",
       "      <td>-9.017985</td>\n",
       "      <td>20.061531</td>\n",
       "    </tr>\n",
       "  </tbody>\n",
       "</table>\n",
       "</div>"
      ],
      "text/plain": [
       "   Year  TotalSalesAmount  TotalSalesQuantity  AverageUnitPrice  \\\n",
       "0  2007      4.561941e+09            16984310        268.597368   \n",
       "1  2008      4.111234e+09            16511811        248.987439   \n",
       "2  2009      3.740483e+09            19824333        188.681411   \n",
       "\n",
       "   AnnualGrowth_Amount  AnnualGrowth_Quantity  \n",
       "0                  NaN                    NaN  \n",
       "1            -9.879729              -2.781973  \n",
       "2            -9.017985              20.061531  "
      ]
     },
     "execution_count": 4,
     "metadata": {},
     "output_type": "execute_result"
    }
   ],
   "source": [
    "df_annual_summary = TotalSales.groupby('Year').agg(\n",
    "    TotalSalesAmount=('TotalSalesAmount', 'sum'),\n",
    "    TotalSalesQuantity=('TotalSalesQuantity', 'sum')\n",
    ").reset_index()\n",
    "\n",
    "df_annual_summary['AverageUnitPrice'] = df_annual_summary['TotalSalesAmount'] / df_annual_summary['TotalSalesQuantity']\n",
    "\n",
    "df_annual_summary['AnnualGrowth_Amount'] = df_annual_summary['TotalSalesAmount'].pct_change() * 100\n",
    "df_annual_summary['AnnualGrowth_Quantity'] = df_annual_summary['TotalSalesQuantity'].pct_change() * 100\n",
    "\n",
    "df_annual_summary"
   ]
  },
  {
   "cell_type": "markdown",
   "id": "036d3126",
   "metadata": {},
   "source": [
    "<h4><b>2. Quais são os 10 produtos mais vendidos em termos de SalesAmount e SalesQuantity no último ano disponível?</h4></b>"
   ]
  },
  {
   "cell_type": "code",
   "execution_count": 7,
   "id": "b6e0073d",
   "metadata": {},
   "outputs": [
    {
     "data": {
      "application/vnd.microsoft.datawrangler.viewer.v0+json": {
       "columns": [
        {
         "name": "index",
         "rawType": "int64",
         "type": "integer"
        },
        {
         "name": "Product",
         "rawType": "object",
         "type": "string"
        },
        {
         "name": "TotalSalesAmount",
         "rawType": "float64",
         "type": "float"
        },
        {
         "name": "TotalSalesQuantity",
         "rawType": "int64",
         "type": "integer"
        }
       ],
       "ref": "f36a25de-9224-45e0-973b-a493e924fb18",
       "rows": [
        [
         "0",
         "Fabrikam Laptop19 M9000 Black",
         "13239609.04",
         "12221"
        ],
        [
         "1",
         "Fabrikam Laptop19W M9800 Black",
         "13203507.9",
         "11183"
        ],
        [
         "2",
         "Adventure Works Laptop19W X1980 White",
         "11862013.35",
         "9308"
        ],
        [
         "3",
         "Adventure Works Laptop19W X1980 Silver",
         "11409623.61",
         "8935"
        ],
        [
         "4",
         "Litware Refrigerator 24.7CuFt X980 Brown",
         "11400220.3742",
         "3631"
        ],
        [
         "5",
         "Adventure Works Laptop19W X1980 Blue",
         "11345712.81",
         "8904"
        ],
        [
         "6",
         "Litware Refrigerator 24.7CuFt X980 Grey",
         "11071293.4021",
         "3527"
        ],
        [
         "7",
         "Fabrikam Laptop16W M6080 Black",
         "10568971.55",
         "11096"
        ],
        [
         "8",
         "Litware Refrigerator 24.7CuFt X980 Blue",
         "10568638.9729",
         "3370"
        ],
        [
         "9",
         "Adventure Works Laptop19W X1980 Red",
         "10469277.51",
         "8198"
        ]
       ],
       "shape": {
        "columns": 3,
        "rows": 10
       }
      },
      "text/html": [
       "<div>\n",
       "<style scoped>\n",
       "    .dataframe tbody tr th:only-of-type {\n",
       "        vertical-align: middle;\n",
       "    }\n",
       "\n",
       "    .dataframe tbody tr th {\n",
       "        vertical-align: top;\n",
       "    }\n",
       "\n",
       "    .dataframe thead th {\n",
       "        text-align: right;\n",
       "    }\n",
       "</style>\n",
       "<table border=\"1\" class=\"dataframe\">\n",
       "  <thead>\n",
       "    <tr style=\"text-align: right;\">\n",
       "      <th></th>\n",
       "      <th>Product</th>\n",
       "      <th>TotalSalesAmount</th>\n",
       "      <th>TotalSalesQuantity</th>\n",
       "    </tr>\n",
       "  </thead>\n",
       "  <tbody>\n",
       "    <tr>\n",
       "      <th>0</th>\n",
       "      <td>Fabrikam Laptop19 M9000 Black</td>\n",
       "      <td>1.323961e+07</td>\n",
       "      <td>12221</td>\n",
       "    </tr>\n",
       "    <tr>\n",
       "      <th>1</th>\n",
       "      <td>Fabrikam Laptop19W M9800 Black</td>\n",
       "      <td>1.320351e+07</td>\n",
       "      <td>11183</td>\n",
       "    </tr>\n",
       "    <tr>\n",
       "      <th>2</th>\n",
       "      <td>Adventure Works Laptop19W X1980 White</td>\n",
       "      <td>1.186201e+07</td>\n",
       "      <td>9308</td>\n",
       "    </tr>\n",
       "    <tr>\n",
       "      <th>3</th>\n",
       "      <td>Adventure Works Laptop19W X1980 Silver</td>\n",
       "      <td>1.140962e+07</td>\n",
       "      <td>8935</td>\n",
       "    </tr>\n",
       "    <tr>\n",
       "      <th>4</th>\n",
       "      <td>Litware Refrigerator 24.7CuFt X980 Brown</td>\n",
       "      <td>1.140022e+07</td>\n",
       "      <td>3631</td>\n",
       "    </tr>\n",
       "    <tr>\n",
       "      <th>5</th>\n",
       "      <td>Adventure Works Laptop19W X1980 Blue</td>\n",
       "      <td>1.134571e+07</td>\n",
       "      <td>8904</td>\n",
       "    </tr>\n",
       "    <tr>\n",
       "      <th>6</th>\n",
       "      <td>Litware Refrigerator 24.7CuFt X980 Grey</td>\n",
       "      <td>1.107129e+07</td>\n",
       "      <td>3527</td>\n",
       "    </tr>\n",
       "    <tr>\n",
       "      <th>7</th>\n",
       "      <td>Fabrikam Laptop16W M6080 Black</td>\n",
       "      <td>1.056897e+07</td>\n",
       "      <td>11096</td>\n",
       "    </tr>\n",
       "    <tr>\n",
       "      <th>8</th>\n",
       "      <td>Litware Refrigerator 24.7CuFt X980 Blue</td>\n",
       "      <td>1.056864e+07</td>\n",
       "      <td>3370</td>\n",
       "    </tr>\n",
       "    <tr>\n",
       "      <th>9</th>\n",
       "      <td>Adventure Works Laptop19W X1980 Red</td>\n",
       "      <td>1.046928e+07</td>\n",
       "      <td>8198</td>\n",
       "    </tr>\n",
       "  </tbody>\n",
       "</table>\n",
       "</div>"
      ],
      "text/plain": [
       "                                    Product  TotalSalesAmount  \\\n",
       "0             Fabrikam Laptop19 M9000 Black      1.323961e+07   \n",
       "1            Fabrikam Laptop19W M9800 Black      1.320351e+07   \n",
       "2     Adventure Works Laptop19W X1980 White      1.186201e+07   \n",
       "3    Adventure Works Laptop19W X1980 Silver      1.140962e+07   \n",
       "4  Litware Refrigerator 24.7CuFt X980 Brown      1.140022e+07   \n",
       "5      Adventure Works Laptop19W X1980 Blue      1.134571e+07   \n",
       "6   Litware Refrigerator 24.7CuFt X980 Grey      1.107129e+07   \n",
       "7            Fabrikam Laptop16W M6080 Black      1.056897e+07   \n",
       "8   Litware Refrigerator 24.7CuFt X980 Blue      1.056864e+07   \n",
       "9       Adventure Works Laptop19W X1980 Red      1.046928e+07   \n",
       "\n",
       "   TotalSalesQuantity  \n",
       "0               12221  \n",
       "1               11183  \n",
       "2                9308  \n",
       "3                8935  \n",
       "4                3631  \n",
       "5                8904  \n",
       "6                3527  \n",
       "7               11096  \n",
       "8                3370  \n",
       "9                8198  "
      ]
     },
     "execution_count": 7,
     "metadata": {},
     "output_type": "execute_result"
    }
   ],
   "source": [
    "query = \"\"\"\n",
    "SELECT TOP 10\n",
    "    DP.ProductName AS [Product], \n",
    "    SUM(FS.SalesAmount) AS [TotalSalesAmount],\n",
    "    SUM(FS.SalesQuantity) AS [TotalSalesQuantity]\n",
    "FROM \n",
    "    FactSales AS FS \n",
    "INNER JOIN \n",
    "    DimProduct AS DP ON FS.ProductKey = DP.ProductKey\n",
    "INNER JOIN \n",
    "    DimDate AS DD ON FS.DateKey = DD.Datekey\n",
    "INNER JOIN (\n",
    "    SELECT MAX(CalendarYear) AS LastYear \n",
    "    FROM DimDate AS DD2\n",
    "    WHERE EXISTS (\n",
    "        SELECT 1 FROM FactSales AS FS2 \n",
    "        WHERE FS2.DateKey = DD2.Datekey\n",
    "    )\n",
    ") AS LY ON DD.CalendarYear = LY.LastYear\n",
    "GROUP BY \n",
    "    DP.ProductName\n",
    "ORDER BY \n",
    "    [TotalSalesAmount] DESC, \n",
    "    [TotalSalesQuantity] DESC;\n",
    "\"\"\"\n",
    "TopSales = pd.read_sql(query, conn)\n",
    "\n",
    "TopSales"
   ]
  },
  {
   "cell_type": "markdown",
   "id": "c425aba8",
   "metadata": {},
   "source": [
    "<h4><b>3. Qual o desempenho de vendas (SalesAmount e TotalCost) por canal de vendas (Loja Física, Online, Catálogo, Revendedor)?</h4></b>"
   ]
  },
  {
   "cell_type": "code",
   "execution_count": 6,
   "id": "9c3d2bbf",
   "metadata": {},
   "outputs": [
    {
     "data": {
      "application/vnd.microsoft.datawrangler.viewer.v0+json": {
       "columns": [
        {
         "name": "index",
         "rawType": "int64",
         "type": "integer"
        },
        {
         "name": "ChannelName",
         "rawType": "object",
         "type": "string"
        },
        {
         "name": "TotalSalesAmount",
         "rawType": "float64",
         "type": "float"
        },
        {
         "name": "TotalCost",
         "rawType": "float64",
         "type": "float"
        }
       ],
       "ref": "bdb4db20-afeb-414b-9304-81733da3c3ee",
       "rows": [
        [
         "0",
         "Store",
         "6942853195.144",
         "2992579668.63"
        ],
        [
         "1",
         "Online",
         "2677599035.0748",
         "1163294363.13"
        ],
        [
         "2",
         "Reseller",
         "1715197831.4421",
         "743558867.34"
        ],
        [
         "3",
         "Catalog",
         "1078007547.2267",
         "465463702.68"
        ]
       ],
       "shape": {
        "columns": 3,
        "rows": 4
       }
      },
      "text/html": [
       "<div>\n",
       "<style scoped>\n",
       "    .dataframe tbody tr th:only-of-type {\n",
       "        vertical-align: middle;\n",
       "    }\n",
       "\n",
       "    .dataframe tbody tr th {\n",
       "        vertical-align: top;\n",
       "    }\n",
       "\n",
       "    .dataframe thead th {\n",
       "        text-align: right;\n",
       "    }\n",
       "</style>\n",
       "<table border=\"1\" class=\"dataframe\">\n",
       "  <thead>\n",
       "    <tr style=\"text-align: right;\">\n",
       "      <th></th>\n",
       "      <th>ChannelName</th>\n",
       "      <th>TotalSalesAmount</th>\n",
       "      <th>TotalCost</th>\n",
       "    </tr>\n",
       "  </thead>\n",
       "  <tbody>\n",
       "    <tr>\n",
       "      <th>0</th>\n",
       "      <td>Store</td>\n",
       "      <td>6.942853e+09</td>\n",
       "      <td>2.992580e+09</td>\n",
       "    </tr>\n",
       "    <tr>\n",
       "      <th>1</th>\n",
       "      <td>Online</td>\n",
       "      <td>2.677599e+09</td>\n",
       "      <td>1.163294e+09</td>\n",
       "    </tr>\n",
       "    <tr>\n",
       "      <th>2</th>\n",
       "      <td>Reseller</td>\n",
       "      <td>1.715198e+09</td>\n",
       "      <td>7.435589e+08</td>\n",
       "    </tr>\n",
       "    <tr>\n",
       "      <th>3</th>\n",
       "      <td>Catalog</td>\n",
       "      <td>1.078008e+09</td>\n",
       "      <td>4.654637e+08</td>\n",
       "    </tr>\n",
       "  </tbody>\n",
       "</table>\n",
       "</div>"
      ],
      "text/plain": [
       "  ChannelName  TotalSalesAmount     TotalCost\n",
       "0       Store      6.942853e+09  2.992580e+09\n",
       "1      Online      2.677599e+09  1.163294e+09\n",
       "2    Reseller      1.715198e+09  7.435589e+08\n",
       "3     Catalog      1.078008e+09  4.654637e+08"
      ]
     },
     "execution_count": 6,
     "metadata": {},
     "output_type": "execute_result"
    }
   ],
   "source": [
    "query = \"\"\" \n",
    "SELECT\n",
    "    DC.ChannelName,\n",
    "    SUM(FS.SalesAmount) AS TotalSalesAmount,\n",
    "    SUM(FS.TotalCost) AS TotalCost\n",
    "FROM\n",
    "    FactSales AS FS\n",
    "JOIN\n",
    "    DimChannel AS DC ON FS.ChannelKey = DC.ChannelKey\n",
    "GROUP BY\n",
    "    DC.ChannelName\n",
    "ORDER BY\n",
    "    TotalSalesAmount DESC;\n",
    "\"\"\"\n",
    "SalesByChanel = pd.read_sql(query, conn)\n",
    "\n",
    "SalesByChanel"
   ]
  },
  {
   "cell_type": "markdown",
   "id": "8c6db78c",
   "metadata": {},
   "source": [
    "<h4><b>4. Qual a receita total (SalesAmount) e o custo total (TotalCost) para cada loja no último ano disponível com dados de vendas?</h4></b>"
   ]
  },
  {
   "cell_type": "code",
   "execution_count": 8,
   "id": "a2e12270",
   "metadata": {},
   "outputs": [
    {
     "data": {
      "application/vnd.microsoft.datawrangler.viewer.v0+json": {
       "columns": [
        {
         "name": "index",
         "rawType": "int64",
         "type": "integer"
        },
        {
         "name": "Store",
         "rawType": "object",
         "type": "string"
        },
        {
         "name": "TotalRevenue",
         "rawType": "float64",
         "type": "float"
        },
        {
         "name": "TotalCost",
         "rawType": "float64",
         "type": "float"
        },
        {
         "name": "Profit",
         "rawType": "float64",
         "type": "float"
        },
        {
         "name": "Transactions",
         "rawType": "int64",
         "type": "integer"
        },
        {
         "name": "AverageTicket",
         "rawType": "float64",
         "type": "float"
        }
       ],
       "ref": "cb8a2d9b-014f-4327-9457-e02579784d4f",
       "rows": [
        [
         "0",
         "Contoso North America Online Store",
         "339458077.2423",
         "147895050.67",
         "191563026.5723",
         "72377",
         "4690.1374"
        ],
        [
         "1",
         "Contoso Asia Online Store",
         "339364204.3653",
         "148760442.36",
         "190603762.0053",
         "66797",
         "5080.5306"
        ],
        [
         "2",
         "Contoso Catalog Store",
         "314303239.2299",
         "136014432.55",
         "178288806.6799",
         "58871",
         "5338.8466"
        ],
        [
         "3",
         "Contoso Europe Online Store",
         "272327817.3245",
         "117878331.18",
         "154449486.1445",
         "58700",
         "4639.3154"
        ],
        [
         "4",
         "Contoso North America Reseller",
         "193960348.981",
         "83993204.88",
         "109967144.101",
         "41562",
         "4666.7713"
        ],
        [
         "5",
         "Contoso Asia Reseller",
         "191594222.9926",
         "84013909.56",
         "107580313.4326",
         "41399",
         "4627.9915"
        ],
        [
         "6",
         "Contoso Europe Reseller",
         "158263209.6971",
         "68585430.9",
         "89677778.7971",
         "37002",
         "4277.1528"
        ],
        [
         "7",
         "Contoso Sydney No.1 Store",
         "13881637.5565",
         "6030895.58",
         "7850741.9765",
         "3644",
         "3809.4504"
        ],
        [
         "8",
         "Contoso Bishkek Store",
         "13804578.1125",
         "5961403.12",
         "7843174.9925",
         "3630",
         "3802.914"
        ],
        [
         "9",
         "Contoso Yerevan Store",
         "13768349.8985",
         "5970674.64",
         "7797675.2585",
         "3639",
         "3783.5531"
        ],
        [
         "10",
         "Contoso Tehran No.2 Store",
         "13746525.8865",
         "5961395.27",
         "7785130.6165",
         "3673",
         "3742.588"
        ],
        [
         "11",
         "Contoso Ashgabat No.1 Store",
         "13743661.3395",
         "5976027.39",
         "7767633.9495",
         "3693",
         "3721.5438"
        ],
        [
         "12",
         "Contoso Damascus No.2 Store",
         "13724559.6475",
         "5997938.71",
         "7726620.9375",
         "3699",
         "3710.3432"
        ],
        [
         "13",
         "Contoso Hong Kong No.2 Store",
         "13721965.759",
         "5954048.13",
         "7767917.629",
         "3618",
         "3792.6936"
        ],
        [
         "14",
         "Contoso Bangkok No.2 Store",
         "13717801.8135",
         "5981255.3",
         "7736546.5135",
         "3648",
         "3760.3623"
        ],
        [
         "15",
         "Contoso New Delhi Store",
         "13707108.436",
         "5957360.69",
         "7749747.746",
         "3632",
         "3773.9836"
        ],
        [
         "16",
         "Contoso Hong Kong No.1 Store",
         "13669915.376",
         "5979917.29",
         "7689998.086",
         "3658",
         "3736.9916"
        ],
        [
         "17",
         "Contoso Taipei  Store",
         "13663685.18",
         "5970974.92",
         "7692710.26",
         "3662",
         "3731.2084"
        ],
        [
         "18",
         "Contoso Canberra Store",
         "13657731.1495",
         "5933957.92",
         "7723773.2295",
         "3639",
         "3753.155"
        ],
        [
         "19",
         "Contoso Osaka No.1 Store",
         "13592892.525",
         "5879687.24",
         "7713205.285",
         "3622",
         "3752.8692"
        ],
        [
         "20",
         "Contoso Sydney  No.2 Store",
         "13589444.6635",
         "5904284.44",
         "7685160.2235",
         "3649",
         "3724.1558"
        ],
        [
         "21",
         "Contoso Islamabad No.1 Store",
         "13565079.1725",
         "5963412.95",
         "7601666.2225",
         "3619",
         "3748.2948"
        ],
        [
         "22",
         "Contoso Ashgabat  No.2 Store",
         "13497199.954",
         "5824232.36",
         "7672967.594",
         "3618",
         "3730.5693"
        ],
        [
         "23",
         "Contoso Mumbai Store",
         "13469958.0175",
         "5901390.19",
         "7568567.8275",
         "3643",
         "3697.4905"
        ],
        [
         "24",
         "Contoso Tokyo No.1 Store",
         "13444452.439",
         "5872303.25",
         "7572149.189",
         "3644",
         "3689.4765"
        ],
        [
         "25",
         "Contoso Shanghai No.1 Store",
         "13428894.1925",
         "5810384.24",
         "7618509.9525",
         "3661",
         "3668.0945"
        ],
        [
         "26",
         "Contoso Shanghai No.2 Store",
         "13415202.3625",
         "5859930.33",
         "7555272.0325",
         "3643",
         "3682.4601"
        ],
        [
         "27",
         "Contoso Osaka No.2 Store",
         "13393145.6",
         "5784409.32",
         "7608736.28",
         "3624",
         "3695.6803"
        ],
        [
         "28",
         "Contoso Urumqi Store",
         "13367659.618",
         "5860460.52",
         "7507199.098",
         "3647",
         "3665.3851"
        ],
        [
         "29",
         "Contoso Busan Store",
         "13359692.688",
         "5850536.74",
         "7509155.948",
         "3637",
         "3673.2726"
        ],
        [
         "30",
         "Contoso Tehran No.1 Store",
         "13351954.9345",
         "5794755.81",
         "7557199.1245",
         "3617",
         "3691.4445"
        ],
        [
         "31",
         "Contoso Thimphu No.2 Store",
         "13339734.637",
         "5797539.49",
         "7542195.147",
         "3636",
         "3668.7939"
        ],
        [
         "32",
         "Contoso Yokohama Store",
         "13287001.207",
         "5800105.39",
         "7486895.817",
         "3638",
         "3652.2818"
        ],
        [
         "33",
         "Contoso Kolkata Store",
         "13285310.855",
         "5791471.3",
         "7493839.555",
         "3644",
         "3645.8042"
        ],
        [
         "34",
         "Contoso Moscow  No.2 Store",
         "13260170.9494",
         "5742756.51",
         "7517414.4394",
         "3626",
         "3656.9693"
        ],
        [
         "35",
         "Contoso Singapore Store",
         "13167637.068",
         "5761897.19",
         "7405739.878",
         "3594",
         "3663.7832"
        ],
        [
         "36",
         "Contoso Tokyo No.2 Store",
         "13166377.976",
         "5764759.03",
         "7401618.946",
         "3592",
         "3665.4727"
        ],
        [
         "37",
         "Contoso Sapporo Store",
         "13063561.668",
         "5670079.93",
         "7393481.738",
         "3565",
         "3664.3931"
        ],
        [
         "38",
         "Contoso Islamabad  No.2 Store",
         "12714265.407",
         "5507626.56",
         "7206638.847",
         "3498",
         "3634.7242"
        ],
        [
         "39",
         "Contoso Damascus No.1 Store",
         "12575283.638",
         "5451330.2",
         "7123953.438",
         "3519",
         "3573.5389"
        ],
        [
         "40",
         "Contoso Seoul Store",
         "12449907.3925",
         "5418002.92",
         "7031904.4725",
         "3519",
         "3537.9105"
        ],
        [
         "41",
         "Contoso Nagoya Store",
         "12439048.3865",
         "5392025.38",
         "7047023.0065",
         "3489",
         "3565.2187"
        ],
        [
         "42",
         "Contoso Beijing Store",
         "12395725.74",
         "5386143.35",
         "7009582.39",
         "3472",
         "3570.1975"
        ],
        [
         "43",
         "Contoso Bangkok No.1 Store",
         "12252554.357",
         "5320726.22",
         "6931828.137",
         "3495",
         "3505.738"
        ],
        [
         "44",
         "Contoso Thimphu No.1 Store",
         "6622523.0975",
         "2813697.84",
         "3808825.2575",
         "1742",
         "3801.678"
        ],
        [
         "45",
         "Contoso Shreveport Store",
         "6252821.382",
         "2679627.82",
         "3573193.562",
         "1487",
         "4204.9908"
        ],
        [
         "46",
         "Contoso Guangzhou Store",
         "6168400.621",
         "2626546.79",
         "3541853.831",
         "1606",
         "3840.8472"
        ],
        [
         "47",
         "Contoso Somerville Store",
         "6131759.1525",
         "2637763.39",
         "3493995.7625",
         "1503",
         "4079.68"
        ],
        [
         "48",
         "Contoso Beaumont No.2 Store",
         "6124637.528",
         "2616718.35",
         "3507919.178",
         "1490",
         "4110.4949"
        ],
        [
         "49",
         "Contoso Thornton Store",
         "6064612.7255",
         "2608705.93",
         "3455906.7955",
         "1475",
         "4111.6018"
        ]
       ],
       "shape": {
        "columns": 6,
        "rows": 306
       }
      },
      "text/html": [
       "<div>\n",
       "<style scoped>\n",
       "    .dataframe tbody tr th:only-of-type {\n",
       "        vertical-align: middle;\n",
       "    }\n",
       "\n",
       "    .dataframe tbody tr th {\n",
       "        vertical-align: top;\n",
       "    }\n",
       "\n",
       "    .dataframe thead th {\n",
       "        text-align: right;\n",
       "    }\n",
       "</style>\n",
       "<table border=\"1\" class=\"dataframe\">\n",
       "  <thead>\n",
       "    <tr style=\"text-align: right;\">\n",
       "      <th></th>\n",
       "      <th>Store</th>\n",
       "      <th>TotalRevenue</th>\n",
       "      <th>TotalCost</th>\n",
       "      <th>Profit</th>\n",
       "      <th>Transactions</th>\n",
       "      <th>AverageTicket</th>\n",
       "    </tr>\n",
       "  </thead>\n",
       "  <tbody>\n",
       "    <tr>\n",
       "      <th>0</th>\n",
       "      <td>Contoso North America Online Store</td>\n",
       "      <td>3.394581e+08</td>\n",
       "      <td>1.478951e+08</td>\n",
       "      <td>1.915630e+08</td>\n",
       "      <td>72377</td>\n",
       "      <td>4690.1374</td>\n",
       "    </tr>\n",
       "    <tr>\n",
       "      <th>1</th>\n",
       "      <td>Contoso Asia Online Store</td>\n",
       "      <td>3.393642e+08</td>\n",
       "      <td>1.487604e+08</td>\n",
       "      <td>1.906038e+08</td>\n",
       "      <td>66797</td>\n",
       "      <td>5080.5306</td>\n",
       "    </tr>\n",
       "    <tr>\n",
       "      <th>2</th>\n",
       "      <td>Contoso Catalog Store</td>\n",
       "      <td>3.143032e+08</td>\n",
       "      <td>1.360144e+08</td>\n",
       "      <td>1.782888e+08</td>\n",
       "      <td>58871</td>\n",
       "      <td>5338.8466</td>\n",
       "    </tr>\n",
       "    <tr>\n",
       "      <th>3</th>\n",
       "      <td>Contoso Europe Online Store</td>\n",
       "      <td>2.723278e+08</td>\n",
       "      <td>1.178783e+08</td>\n",
       "      <td>1.544495e+08</td>\n",
       "      <td>58700</td>\n",
       "      <td>4639.3154</td>\n",
       "    </tr>\n",
       "    <tr>\n",
       "      <th>4</th>\n",
       "      <td>Contoso North America Reseller</td>\n",
       "      <td>1.939603e+08</td>\n",
       "      <td>8.399320e+07</td>\n",
       "      <td>1.099671e+08</td>\n",
       "      <td>41562</td>\n",
       "      <td>4666.7713</td>\n",
       "    </tr>\n",
       "    <tr>\n",
       "      <th>...</th>\n",
       "      <td>...</td>\n",
       "      <td>...</td>\n",
       "      <td>...</td>\n",
       "      <td>...</td>\n",
       "      <td>...</td>\n",
       "      <td>...</td>\n",
       "    </tr>\n",
       "    <tr>\n",
       "      <th>301</th>\n",
       "      <td>Contoso Roma Store</td>\n",
       "      <td>4.042906e+06</td>\n",
       "      <td>1.726953e+06</td>\n",
       "      <td>2.315953e+06</td>\n",
       "      <td>1182</td>\n",
       "      <td>3420.3945</td>\n",
       "    </tr>\n",
       "    <tr>\n",
       "      <th>302</th>\n",
       "      <td>Contoso Berlin Store</td>\n",
       "      <td>3.743782e+06</td>\n",
       "      <td>1.620604e+06</td>\n",
       "      <td>2.123178e+06</td>\n",
       "      <td>1136</td>\n",
       "      <td>3295.5827</td>\n",
       "    </tr>\n",
       "    <tr>\n",
       "      <th>303</th>\n",
       "      <td>Contoso Marseille Store</td>\n",
       "      <td>3.645385e+06</td>\n",
       "      <td>1.565798e+06</td>\n",
       "      <td>2.079586e+06</td>\n",
       "      <td>1129</td>\n",
       "      <td>3228.8614</td>\n",
       "    </tr>\n",
       "    <tr>\n",
       "      <th>304</th>\n",
       "      <td>Contoso Racine No.2 Store</td>\n",
       "      <td>2.485142e+06</td>\n",
       "      <td>1.090944e+06</td>\n",
       "      <td>1.394198e+06</td>\n",
       "      <td>670</td>\n",
       "      <td>3709.1676</td>\n",
       "    </tr>\n",
       "    <tr>\n",
       "      <th>305</th>\n",
       "      <td>Contoso Venezia Store</td>\n",
       "      <td>1.614188e+06</td>\n",
       "      <td>6.971498e+05</td>\n",
       "      <td>9.170379e+05</td>\n",
       "      <td>580</td>\n",
       "      <td>2783.0823</td>\n",
       "    </tr>\n",
       "  </tbody>\n",
       "</table>\n",
       "<p>306 rows × 6 columns</p>\n",
       "</div>"
      ],
      "text/plain": [
       "                                  Store  TotalRevenue     TotalCost  \\\n",
       "0    Contoso North America Online Store  3.394581e+08  1.478951e+08   \n",
       "1             Contoso Asia Online Store  3.393642e+08  1.487604e+08   \n",
       "2                 Contoso Catalog Store  3.143032e+08  1.360144e+08   \n",
       "3           Contoso Europe Online Store  2.723278e+08  1.178783e+08   \n",
       "4        Contoso North America Reseller  1.939603e+08  8.399320e+07   \n",
       "..                                  ...           ...           ...   \n",
       "301                  Contoso Roma Store  4.042906e+06  1.726953e+06   \n",
       "302                Contoso Berlin Store  3.743782e+06  1.620604e+06   \n",
       "303             Contoso Marseille Store  3.645385e+06  1.565798e+06   \n",
       "304           Contoso Racine No.2 Store  2.485142e+06  1.090944e+06   \n",
       "305               Contoso Venezia Store  1.614188e+06  6.971498e+05   \n",
       "\n",
       "           Profit  Transactions  AverageTicket  \n",
       "0    1.915630e+08         72377      4690.1374  \n",
       "1    1.906038e+08         66797      5080.5306  \n",
       "2    1.782888e+08         58871      5338.8466  \n",
       "3    1.544495e+08         58700      4639.3154  \n",
       "4    1.099671e+08         41562      4666.7713  \n",
       "..            ...           ...            ...  \n",
       "301  2.315953e+06          1182      3420.3945  \n",
       "302  2.123178e+06          1136      3295.5827  \n",
       "303  2.079586e+06          1129      3228.8614  \n",
       "304  1.394198e+06           670      3709.1676  \n",
       "305  9.170379e+05           580      2783.0823  \n",
       "\n",
       "[306 rows x 6 columns]"
      ]
     },
     "execution_count": 8,
     "metadata": {},
     "output_type": "execute_result"
    }
   ],
   "source": [
    "query = \"\"\" \n",
    "SELECT\n",
    "    DS.StoreName AS [Store],\n",
    "    SUM(FS.SalesAmount) AS [TotalRevenue],\n",
    "    SUM(FS.TotalCost) AS [TotalCost],\n",
    "    SUM(FS.SalesAmount) - SUM(FS.TotalCost) AS [Profit],\n",
    "    COUNT(*) AS [Transactions],\n",
    "    SUM(FS.SalesAmount) / NULLIF(COUNT(*), 0) AS [AverageTicket]\n",
    "FROM \n",
    "    FactSales FS WITH (NOLOCK)\n",
    "INNER JOIN \n",
    "    DimStore DS WITH (NOLOCK) ON FS.StoreKey = DS.StoreKey\n",
    "INNER JOIN \n",
    "    DimDate DD WITH (NOLOCK) ON FS.DateKey = DD.Datekey\n",
    "INNER JOIN (\n",
    "    SELECT TOP 1 CalendarYear AS LastYear\n",
    "    FROM DimDate DD2 WITH (NOLOCK)\n",
    "    WHERE EXISTS (\n",
    "        SELECT 1 FROM FactSales FS2 WITH (NOLOCK)\n",
    "        WHERE FS2.DateKey = DD2.Datekey\n",
    "    )\n",
    "    ORDER BY CalendarYear DESC\n",
    ") AS LY ON DD.CalendarYear = LY.LastYear\n",
    "GROUP BY \n",
    "    DS.StoreName\n",
    "ORDER BY \n",
    "    [TotalRevenue] DESC;\n",
    "\"\"\"\n",
    "\n",
    "SalesByStore = pd.read_sql(query, conn)\n",
    "\n",
    "SalesByStore"
   ]
  },
  {
   "cell_type": "markdown",
   "id": "a9f7e57f",
   "metadata": {},
   "source": [
    "Clientes\n",
    "\n",
    "<h4><b>5. Qual a distribuição de clientes por gênero e estado/província (StateProvinceName)?</h4></b>"
   ]
  },
  {
   "cell_type": "code",
   "execution_count": 9,
   "id": "b7031d05",
   "metadata": {},
   "outputs": [
    {
     "data": {
      "application/vnd.microsoft.datawrangler.viewer.v0+json": {
       "columns": [
        {
         "name": "index",
         "rawType": "int64",
         "type": "integer"
        },
        {
         "name": "Gender",
         "rawType": "object",
         "type": "unknown"
        },
        {
         "name": "StateProvinceName",
         "rawType": "object",
         "type": "string"
        },
        {
         "name": "NumberOfCustomers",
         "rawType": "int64",
         "type": "integer"
        }
       ],
       "ref": "b76267bf-170d-46e6-81d5-3b2405694469",
       "rows": [
        [
         "0",
         null,
         "California",
         "45"
        ],
        [
         "1",
         null,
         "Washington",
         "34"
        ],
        [
         "2",
         null,
         "Texas",
         "32"
        ],
        [
         "3",
         null,
         "Massachusetts",
         "19"
        ],
        [
         "4",
         null,
         "Wisconsin",
         "18"
        ],
        [
         "5",
         null,
         "New South Wales",
         "18"
        ],
        [
         "6",
         null,
         "Colorado",
         "17"
        ],
        [
         "7",
         null,
         "New Jersey",
         "16"
        ],
        [
         "8",
         null,
         "England",
         "15"
        ],
        [
         "9",
         null,
         "New York",
         "14"
        ],
        [
         "10",
         null,
         "Florida",
         "13"
        ],
        [
         "11",
         null,
         "Oregon",
         "10"
        ],
        [
         "12",
         null,
         "Victoria",
         "9"
        ],
        [
         "13",
         null,
         "Virginia",
         "9"
        ],
        [
         "14",
         null,
         "Queensland",
         "8"
        ],
        [
         "15",
         null,
         "Maryland",
         "7"
        ],
        [
         "16",
         null,
         "British Columbia",
         "7"
        ],
        [
         "17",
         null,
         "Connecticut",
         "6"
        ],
        [
         "18",
         null,
         "Maine",
         "5"
        ],
        [
         "19",
         null,
         "Berlin",
         "4"
        ],
        [
         "20",
         null,
         "Georgia",
         "3"
        ],
        [
         "21",
         null,
         "South Australia",
         "3"
        ],
        [
         "22",
         null,
         "South Carolina",
         "3"
        ],
        [
         "23",
         null,
         "Ohio",
         "3"
        ],
        [
         "24",
         null,
         "Illinois",
         "2"
        ],
        [
         "25",
         null,
         "Wyoming",
         "2"
        ],
        [
         "26",
         null,
         "Hamburg",
         "2"
        ],
        [
         "27",
         null,
         "Kansai",
         "2"
        ],
        [
         "28",
         null,
         "Kanto",
         "2"
        ],
        [
         "29",
         null,
         "Utah",
         "2"
        ],
        [
         "30",
         null,
         "Scotland",
         "2"
        ],
        [
         "31",
         null,
         "Seoul-jikhalsi",
         "1"
        ],
        [
         "32",
         null,
         "Tehran",
         "1"
        ],
        [
         "33",
         null,
         "Bavaria",
         "1"
        ],
        [
         "34",
         null,
         "Kentucky",
         "1"
        ],
        [
         "35",
         null,
         "Chuy Province",
         "1"
        ],
        [
         "36",
         null,
         "Mississippi",
         "1"
        ],
        [
         "37",
         null,
         "Yeongnam",
         "1"
        ],
        [
         "38",
         null,
         "GuangDong",
         "1"
        ],
        [
         "39",
         null,
         "Taiwan",
         "1"
        ],
        [
         "40",
         null,
         "Moskovskaya oblast",
         "1"
        ],
        [
         "41",
         null,
         "Xinjiang",
         "1"
        ],
        [
         "42",
         null,
         "Noord-Holland",
         "1"
        ],
        [
         "43",
         null,
         "Shanghai",
         "1"
        ],
        [
         "44",
         null,
         "Singapore",
         "1"
        ],
        [
         "45",
         null,
         "Loiret",
         "1"
        ],
        [
         "46",
         null,
         "Yveline",
         "1"
        ],
        [
         "47",
         null,
         "Tasmania",
         "1"
        ],
        [
         "48",
         null,
         "Chubu",
         "1"
        ],
        [
         "49",
         null,
         "North Rhine-Westphalia",
         "1"
        ]
       ],
       "shape": {
        "columns": 3,
        "rows": 180
       }
      },
      "text/html": [
       "<div>\n",
       "<style scoped>\n",
       "    .dataframe tbody tr th:only-of-type {\n",
       "        vertical-align: middle;\n",
       "    }\n",
       "\n",
       "    .dataframe tbody tr th {\n",
       "        vertical-align: top;\n",
       "    }\n",
       "\n",
       "    .dataframe thead th {\n",
       "        text-align: right;\n",
       "    }\n",
       "</style>\n",
       "<table border=\"1\" class=\"dataframe\">\n",
       "  <thead>\n",
       "    <tr style=\"text-align: right;\">\n",
       "      <th></th>\n",
       "      <th>Gender</th>\n",
       "      <th>StateProvinceName</th>\n",
       "      <th>NumberOfCustomers</th>\n",
       "    </tr>\n",
       "  </thead>\n",
       "  <tbody>\n",
       "    <tr>\n",
       "      <th>0</th>\n",
       "      <td>None</td>\n",
       "      <td>California</td>\n",
       "      <td>45</td>\n",
       "    </tr>\n",
       "    <tr>\n",
       "      <th>1</th>\n",
       "      <td>None</td>\n",
       "      <td>Washington</td>\n",
       "      <td>34</td>\n",
       "    </tr>\n",
       "    <tr>\n",
       "      <th>2</th>\n",
       "      <td>None</td>\n",
       "      <td>Texas</td>\n",
       "      <td>32</td>\n",
       "    </tr>\n",
       "    <tr>\n",
       "      <th>3</th>\n",
       "      <td>None</td>\n",
       "      <td>Massachusetts</td>\n",
       "      <td>19</td>\n",
       "    </tr>\n",
       "    <tr>\n",
       "      <th>4</th>\n",
       "      <td>None</td>\n",
       "      <td>Wisconsin</td>\n",
       "      <td>18</td>\n",
       "    </tr>\n",
       "    <tr>\n",
       "      <th>...</th>\n",
       "      <td>...</td>\n",
       "      <td>...</td>\n",
       "      <td>...</td>\n",
       "    </tr>\n",
       "    <tr>\n",
       "      <th>175</th>\n",
       "      <td>M</td>\n",
       "      <td>Arizona</td>\n",
       "      <td>1</td>\n",
       "    </tr>\n",
       "    <tr>\n",
       "      <th>176</th>\n",
       "      <td>M</td>\n",
       "      <td>Texas</td>\n",
       "      <td>1</td>\n",
       "    </tr>\n",
       "    <tr>\n",
       "      <th>177</th>\n",
       "      <td>M</td>\n",
       "      <td>Kentucky</td>\n",
       "      <td>1</td>\n",
       "    </tr>\n",
       "    <tr>\n",
       "      <th>178</th>\n",
       "      <td>M</td>\n",
       "      <td>Minnesota</td>\n",
       "      <td>1</td>\n",
       "    </tr>\n",
       "    <tr>\n",
       "      <th>179</th>\n",
       "      <td>M</td>\n",
       "      <td>Florida</td>\n",
       "      <td>1</td>\n",
       "    </tr>\n",
       "  </tbody>\n",
       "</table>\n",
       "<p>180 rows × 3 columns</p>\n",
       "</div>"
      ],
      "text/plain": [
       "    Gender StateProvinceName  NumberOfCustomers\n",
       "0     None        California                 45\n",
       "1     None        Washington                 34\n",
       "2     None             Texas                 32\n",
       "3     None     Massachusetts                 19\n",
       "4     None         Wisconsin                 18\n",
       "..     ...               ...                ...\n",
       "175      M           Arizona                  1\n",
       "176      M             Texas                  1\n",
       "177      M          Kentucky                  1\n",
       "178      M         Minnesota                  1\n",
       "179      M           Florida                  1\n",
       "\n",
       "[180 rows x 3 columns]"
      ]
     },
     "execution_count": 9,
     "metadata": {},
     "output_type": "execute_result"
    }
   ],
   "source": [
    "query = \"\"\" \n",
    "SELECT\n",
    "    DC.Gender,\n",
    "    DG.StateProvinceName,\n",
    "    COUNT(DC.CustomerKey) AS NumberOfCustomers\n",
    "FROM\n",
    "    DimCustomer AS DC\n",
    "JOIN\n",
    "    DimGeography AS DG ON DC.GeographyKey = DG.GeographyKey\n",
    "GROUP BY\n",
    "    DC.Gender,\n",
    "    DG.StateProvinceName\n",
    "ORDER BY\n",
    "    DC.Gender,\n",
    "    NumberOfCustomers DESC;\n",
    "\"\"\"\n",
    "\n",
    "CustumerDemographicsByLocation = pd.read_sql(query, conn)\n",
    "\n",
    "CustumerDemographicsByLocation"
   ]
  },
  {
   "cell_type": "code",
   "execution_count": null,
   "id": "9fd233bd",
   "metadata": {},
   "outputs": [
    {
     "data": {
      "application/vnd.microsoft.datawrangler.viewer.v0+json": {
       "columns": [
        {
         "name": "index",
         "rawType": "int64",
         "type": "integer"
        },
        {
         "name": "CustomerKey",
         "rawType": "int64",
         "type": "integer"
        },
        {
         "name": "FirstName",
         "rawType": "object",
         "type": "unknown"
        },
        {
         "name": "MiddleName",
         "rawType": "object",
         "type": "unknown"
        },
        {
         "name": "LastName",
         "rawType": "object",
         "type": "unknown"
        },
        {
         "name": "TotalSales",
         "rawType": "float64",
         "type": "float"
        },
        {
         "name": "TotalItens",
         "rawType": "int64",
         "type": "integer"
        }
       ],
       "ref": "ae0d537e-ad9f-45d1-948b-441157143e1e",
       "rows": [
        [
         "0",
         "19069",
         null,
         null,
         null,
         "14925684.834",
         "65824"
        ],
        [
         "1",
         "19068",
         null,
         null,
         null,
         "13827311.158",
         "65815"
        ],
        [
         "2",
         "19071",
         null,
         null,
         null,
         "13622244.64",
         "65826"
        ],
        [
         "3",
         "19072",
         null,
         null,
         null,
         "13288493.167",
         "65774"
        ],
        [
         "4",
         "19066",
         null,
         null,
         null,
         "13090568.8023",
         "65834"
        ]
       ],
       "shape": {
        "columns": 6,
        "rows": 5
       }
      },
      "text/html": [
       "<div>\n",
       "<style scoped>\n",
       "    .dataframe tbody tr th:only-of-type {\n",
       "        vertical-align: middle;\n",
       "    }\n",
       "\n",
       "    .dataframe tbody tr th {\n",
       "        vertical-align: top;\n",
       "    }\n",
       "\n",
       "    .dataframe thead th {\n",
       "        text-align: right;\n",
       "    }\n",
       "</style>\n",
       "<table border=\"1\" class=\"dataframe\">\n",
       "  <thead>\n",
       "    <tr style=\"text-align: right;\">\n",
       "      <th></th>\n",
       "      <th>CustomerKey</th>\n",
       "      <th>FirstName</th>\n",
       "      <th>MiddleName</th>\n",
       "      <th>LastName</th>\n",
       "      <th>TotalSales</th>\n",
       "      <th>TotalItens</th>\n",
       "    </tr>\n",
       "  </thead>\n",
       "  <tbody>\n",
       "    <tr>\n",
       "      <th>0</th>\n",
       "      <td>19069</td>\n",
       "      <td>None</td>\n",
       "      <td>None</td>\n",
       "      <td>None</td>\n",
       "      <td>1.492568e+07</td>\n",
       "      <td>65824</td>\n",
       "    </tr>\n",
       "    <tr>\n",
       "      <th>1</th>\n",
       "      <td>19068</td>\n",
       "      <td>None</td>\n",
       "      <td>None</td>\n",
       "      <td>None</td>\n",
       "      <td>1.382731e+07</td>\n",
       "      <td>65815</td>\n",
       "    </tr>\n",
       "    <tr>\n",
       "      <th>2</th>\n",
       "      <td>19071</td>\n",
       "      <td>None</td>\n",
       "      <td>None</td>\n",
       "      <td>None</td>\n",
       "      <td>1.362224e+07</td>\n",
       "      <td>65826</td>\n",
       "    </tr>\n",
       "    <tr>\n",
       "      <th>3</th>\n",
       "      <td>19072</td>\n",
       "      <td>None</td>\n",
       "      <td>None</td>\n",
       "      <td>None</td>\n",
       "      <td>1.328849e+07</td>\n",
       "      <td>65774</td>\n",
       "    </tr>\n",
       "    <tr>\n",
       "      <th>4</th>\n",
       "      <td>19066</td>\n",
       "      <td>None</td>\n",
       "      <td>None</td>\n",
       "      <td>None</td>\n",
       "      <td>1.309057e+07</td>\n",
       "      <td>65834</td>\n",
       "    </tr>\n",
       "  </tbody>\n",
       "</table>\n",
       "</div>"
      ],
      "text/plain": [
       "   CustomerKey FirstName MiddleName LastName    TotalSales  TotalItens\n",
       "0        19069      None       None     None  1.492568e+07       65824\n",
       "1        19068      None       None     None  1.382731e+07       65815\n",
       "2        19071      None       None     None  1.362224e+07       65826\n",
       "3        19072      None       None     None  1.328849e+07       65774\n",
       "4        19066      None       None     None  1.309057e+07       65834"
      ]
     },
     "execution_count": 3,
     "metadata": {},
     "output_type": "execute_result"
    }
   ],
   "source": [
    "query = \"\"\" \n",
    "SELECT TOP 5\n",
    "    FOS.CustomerKey,\n",
    "    DC.FirstName,  \n",
    "    DC.MiddleName, \n",
    "    DC.LastName, \n",
    "    SUM(FOS.SalesAmount) AS [TotalSales],\n",
    "    SUM(FOS.SalesQuantity) AS [TotalItens]\n",
    "FROM\n",
    "    FactOnlineSales FOS WITH (NOLOCK)\n",
    "INNER JOIN\n",
    "    DimCustomer DC WITH (NOLOCK) ON FOS.CustomerKey = DC.CustomerKey\n",
    "WHERE\n",
    "    YEAR(FOS.DateKey) = (\n",
    "        SELECT MAX(YEAR(DateKey))\n",
    "        FROM FactOnlineSales WITH (NOLOCK)\n",
    "    )\n",
    "GROUP BY\n",
    "    FOS.CustomerKey,\n",
    "    DC.FirstName,\n",
    "    DC.MiddleName,\n",
    "    DC.LastName\n",
    "ORDER BY\n",
    "    [TotalSales] DESC;\n",
    "\"\"\"\n",
    "\n",
    "TopCustomers = pd.read_sql(query, conn)\n",
    "\n",
    "TopCustomers"
   ]
  },
  {
   "cell_type": "markdown",
   "id": "838f0177",
   "metadata": {},
   "source": [
    "Com um objetivo claro e direto, este projeto foi dedicado à prática aprofundada da linguagem SQL. A construção e execução de diversas queries permitiram-me solidificar o entendimento sobre a manipulação de bancos de dados, extração de informações relevantes e a lógica por trás de consultas eficientes."
   ]
  }
 ],
 "metadata": {
  "kernelspec": {
   "display_name": "envPython",
   "language": "python",
   "name": "python3"
  },
  "language_info": {
   "codemirror_mode": {
    "name": "ipython",
    "version": 3
   },
   "file_extension": ".py",
   "mimetype": "text/x-python",
   "name": "python",
   "nbconvert_exporter": "python",
   "pygments_lexer": "ipython3",
   "version": "3.13.3"
  }
 },
 "nbformat": 4,
 "nbformat_minor": 5
}
